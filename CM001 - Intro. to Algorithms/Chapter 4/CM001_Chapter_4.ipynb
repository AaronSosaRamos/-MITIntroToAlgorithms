{
  "nbformat": 4,
  "nbformat_minor": 0,
  "metadata": {
    "colab": {
      "provenance": []
    },
    "kernelspec": {
      "name": "python3",
      "display_name": "Python 3"
    },
    "language_info": {
      "name": "python"
    }
  },
  "cells": [
    {
      "cell_type": "markdown",
      "source": [
        "# Hashing"
      ],
      "metadata": {
        "id": "ynIg-Xm6IhWc"
      }
    },
    {
      "cell_type": "markdown",
      "source": [
        "Convert data to a fixed-size string of bytes (Generally, hexadecimal string)"
      ],
      "metadata": {
        "id": "2vDAkV0bI67k"
      }
    },
    {
      "cell_type": "markdown",
      "source": [
        "Hash a String"
      ],
      "metadata": {
        "id": "XX9GqOZrJ1Vr"
      }
    },
    {
      "cell_type": "code",
      "execution_count": 1,
      "metadata": {
        "colab": {
          "base_uri": "https://localhost:8080/"
        },
        "id": "KGbAg-GBIfAo",
        "outputId": "58a3e6d0-57b9-4b5f-ef20-5ed364481d4f"
      },
      "outputs": [
        {
          "output_type": "stream",
          "name": "stdout",
          "text": [
            "Hashed String: dffd6021bb2bd5b0af676290809ec3a53191dd81c7f70a4b28688a362182986f\n"
          ]
        }
      ],
      "source": [
        "import hashlib\n",
        "\n",
        "hash_object = hashlib.sha256() #256-bit hash value.\n",
        "\n",
        "string_to_hash = \"Hello, World!\"\n",
        "hash_object.update(string_to_hash.encode())\n",
        "\n",
        "hashed_string = hash_object.hexdigest()\n",
        "\n",
        "print(\"Hashed String:\", hashed_string)"
      ]
    },
    {
      "cell_type": "code",
      "source": [
        "import hashlib\n",
        "\n",
        "hash_object = hashlib.md5()  # Using the MD5 hashing algorithm\n",
        "\n",
        "string_to_hash = \"Hello, World!\"\n",
        "hash_object.update(string_to_hash.encode())\n",
        "\n",
        "hashed_string = hash_object.hexdigest()\n",
        "\n",
        "print(\"Hashed String (MD5):\", hashed_string)"
      ],
      "metadata": {
        "colab": {
          "base_uri": "https://localhost:8080/"
        },
        "id": "KJ91BMFIKLDf",
        "outputId": "736f7fc1-4095-4e5a-f2be-ac311d171a1a"
      },
      "execution_count": 2,
      "outputs": [
        {
          "output_type": "stream",
          "name": "stdout",
          "text": [
            "Hashed String (MD5): 65a8e27d8879283831b664bd8b7f0ad4\n"
          ]
        }
      ]
    },
    {
      "cell_type": "markdown",
      "source": [
        "# Hashes of arrays (According to Jason Ku)\n",
        "\n",
        "\n",
        "*   Faster search\n",
        "*   Dynamic operations\n",
        "*   Reduce time complexity\n",
        "\n",
        "\n",
        "\n"
      ],
      "metadata": {
        "id": "k1gxWMnaKd5y"
      }
    },
    {
      "cell_type": "code",
      "source": [
        "class CustomKey:\n",
        "    def __init__(self, value):\n",
        "        self.value = value\n",
        "\n",
        "    def __hash__(self):\n",
        "        return hash(self.value)\n",
        "\n",
        "    def __eq__(self, other):\n",
        "        return self.value == other.value\n",
        "\n",
        "custom_hash_table = {}\n",
        "custom_key1 = CustomKey(\"key1\")\n",
        "custom_hash_table[custom_key1] = \"value1\"\n",
        "\n",
        "custom_key2 = CustomKey(\"key1\")\n",
        "value = custom_hash_table[custom_key2]\n",
        "print(value)\n",
        "\n",
        "custom_key2 = CustomKey(\"key2\")\n",
        "custom_hash_table[custom_key2] = \"value2\"\n",
        "value = custom_hash_table[custom_key2]\n",
        "print(value)\n",
        "\n",
        "custom_hash_table[CustomKey(\"key1\")] = 'Hello World!'\n",
        "print(custom_hash_table[CustomKey(\"key1\")])\n",
        "\n",
        "print(custom_hash_table)"
      ],
      "metadata": {
        "colab": {
          "base_uri": "https://localhost:8080/"
        },
        "id": "PZRAehUULObV",
        "outputId": "7a04fb8d-a580-43b6-9ed0-f8006b774b46"
      },
      "execution_count": 15,
      "outputs": [
        {
          "output_type": "stream",
          "name": "stdout",
          "text": [
            "value1\n",
            "value2\n",
            "Hello World!\n",
            "{<__main__.CustomKey object at 0x7e67b018b940>: 'Hello World!', <__main__.CustomKey object at 0x7e67b018a2c0>: 'value2'}\n"
          ]
        }
      ]
    },
    {
      "cell_type": "markdown",
      "source": [
        "Universal Hash Function (Use many hash functions from a family):"
      ],
      "metadata": {
        "id": "3j26J-9EMEHW"
      }
    },
    {
      "cell_type": "code",
      "source": [
        "import random\n",
        "\n",
        "class UniversalHashFunction:\n",
        "    def __init__(self, num_buckets, p=10**9 + 7):\n",
        "        self.num_buckets = num_buckets\n",
        "        self.p = p\n",
        "        self.a = random.randint(1, self.p - 1)\n",
        "        self.b = random.randint(0, self.p - 1)\n",
        "\n",
        "    def __call__(self, key):\n",
        "        return ((self.a * hash(key) + self.b) % self.p) % self.num_buckets\n",
        "\n",
        "class CustomHashTable:\n",
        "    def __init__(self, num_buckets):\n",
        "        self.num_buckets = num_buckets\n",
        "        self.hash_function = UniversalHashFunction(num_buckets)\n",
        "        self.buckets = [[] for _ in range(num_buckets)]\n",
        "\n",
        "    def __setitem__(self, key, value):\n",
        "        index = self.hash_function(key)\n",
        "        for i, (k, v) in enumerate(self.buckets[index]):\n",
        "            if k == key:\n",
        "                self.buckets[index][i] = (key, value)\n",
        "                return\n",
        "        self.buckets[index].append((key, value))\n",
        "\n",
        "    def __getitem__(self, key):\n",
        "        index = self.hash_function(key)\n",
        "        for k, v in self.buckets[index]:\n",
        "            if k == key:\n",
        "                return v\n",
        "        raise KeyError(key)\n",
        "\n",
        "custom_hash_table = CustomHashTable(10)\n",
        "custom_hash_table[\"key1\"] = \"value1\"\n",
        "custom_hash_table[\"key2\"] = \"value2\"\n",
        "print(custom_hash_table[\"key1\"])\n",
        "print(custom_hash_table[\"key2\"])\n",
        "\n",
        "custom_key = CustomKey(\"example_key\")\n",
        "custom_hash_table[custom_key] = \"value3\"\n",
        "print(custom_hash_table[custom_key])\n",
        "\n",
        "print(custom_hash_table[CustomKey(\"example_key\")])\n",
        "\n",
        "custom_hash_table[\"key1\"] = 'Hello World'\n",
        "print(custom_hash_table[\"key1\"])\n",
        "\n",
        "print(custom_hash_table[CustomKey(\"example_key\")])\n",
        "custom_hash_table[CustomKey(\"example_key\")] = 'Hello World 2'\n",
        "print(custom_hash_table[CustomKey(\"example_key\")])"
      ],
      "metadata": {
        "colab": {
          "base_uri": "https://localhost:8080/"
        },
        "id": "gMsluJaXMDg3",
        "outputId": "99f1d603-53aa-4eef-e229-eb0c2e438979"
      },
      "execution_count": 20,
      "outputs": [
        {
          "output_type": "stream",
          "name": "stdout",
          "text": [
            "value1\n",
            "value2\n",
            "value3\n",
            "value3\n",
            "Hello World\n",
            "value3\n",
            "Hello World 2\n"
          ]
        }
      ]
    },
    {
      "cell_type": "markdown",
      "source": [
        "Perfect Hashing (Without collisions):"
      ],
      "metadata": {
        "id": "-GHWwV-7PJ7X"
      }
    },
    {
      "cell_type": "code",
      "source": [
        "class PerfectHashing:\n",
        "    def __init__(self, keys):\n",
        "        self.size = len(keys) ** 2\n",
        "        self.table = [None] * self.size\n",
        "        self.secondary_tables = [None] * self.size\n",
        "\n",
        "        self.create_hash(keys)\n",
        "\n",
        "    def primary_hash_function(self, key):\n",
        "        return key % self.size\n",
        "\n",
        "    def secondary_hash_function(self, key):\n",
        "        return key ** 2 % self.size\n",
        "\n",
        "    def create_hash(self, keys):\n",
        "        for key in keys:\n",
        "            index = self.primary_hash_function(key)\n",
        "            if self.table[index] is None:\n",
        "                self.table[index] = key\n",
        "            else:\n",
        "                if self.secondary_tables[index] is None:\n",
        "                    self.secondary_tables[index] = [None] * (len(keys) ** 2)\n",
        "                sec_index = self.secondary_hash_function(key)\n",
        "                self.secondary_tables[index][sec_index] = key\n",
        "\n",
        "    def search(self, key):\n",
        "        index = self.primary_hash_function(key)\n",
        "        if self.table[index] == key:\n",
        "            return index\n",
        "        elif self.secondary_tables[index] is not None:\n",
        "            sec_index = self.secondary_hash_function(key)\n",
        "            if self.secondary_tables[index][sec_index] == key:\n",
        "                return index\n",
        "        return -1\n",
        "\n",
        "keys = [10, 22, 37, 41, 52, 60, 72, 89, 91]\n",
        "\n",
        "perfect_hash = PerfectHashing(keys)\n",
        "\n",
        "key_to_search = 60\n",
        "index = perfect_hash.search(key_to_search)\n",
        "if index != -1:\n",
        "    print(f\"Key {key_to_search} found at index {index}.\")\n",
        "else:\n",
        "    print(f\"Key {key_to_search} not found.\")"
      ],
      "metadata": {
        "colab": {
          "base_uri": "https://localhost:8080/"
        },
        "id": "AEcoXJ2BPbl2",
        "outputId": "ccc2f53e-8a59-40df-a46d-48009b841a51"
      },
      "execution_count": 28,
      "outputs": [
        {
          "output_type": "stream",
          "name": "stdout",
          "text": [
            "Key 60 found at index 60.\n"
          ]
        }
      ]
    }
  ]
}