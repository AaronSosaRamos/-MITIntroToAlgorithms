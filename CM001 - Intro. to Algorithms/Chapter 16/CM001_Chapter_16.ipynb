{
  "nbformat": 4,
  "nbformat_minor": 0,
  "metadata": {
    "colab": {
      "provenance": []
    },
    "kernelspec": {
      "name": "python3",
      "display_name": "Python 3"
    },
    "language_info": {
      "name": "python"
    }
  },
  "cells": [
    {
      "cell_type": "markdown",
      "source": [
        "#LCS with DAG"
      ],
      "metadata": {
        "id": "ZnR5v5CzvoAb"
      }
    },
    {
      "cell_type": "code",
      "execution_count": 6,
      "metadata": {
        "colab": {
          "base_uri": "https://localhost:8080/"
        },
        "id": "rcLqvTLKvnbL",
        "outputId": "985d6c73-d090-4ab5-ae3f-7aa1b675046e"
      },
      "outputs": [
        {
          "output_type": "stream",
          "name": "stdout",
          "text": [
            "Longest Common Subsequence: BDAB\n"
          ]
        }
      ],
      "source": [
        "def longest_common_subsequence(X, Y):\n",
        "    m, n = len(X), len(Y)\n",
        "    # Construct DAG\n",
        "    graph = {(i, j): [] for i in range(m+1) for j in range(n+1)}\n",
        "    for i in range(m):\n",
        "        for j in range(n):\n",
        "            if X[i] == Y[j]:\n",
        "                graph[(i, j)].append((i+1, j+1))\n",
        "    # Topological sort\n",
        "    def topological_sort(graph):\n",
        "        visited = set()\n",
        "        order = []\n",
        "        def dfs(node):\n",
        "            if node not in visited:\n",
        "                visited.add(node)\n",
        "                for neighbor in graph[node]:\n",
        "                    dfs(neighbor)\n",
        "                order.append(node)\n",
        "        for node in graph:\n",
        "            dfs(node)\n",
        "        return order[::-1]\n",
        "    top_order = topological_sort(graph)\n",
        "    # Calculate LCS length\n",
        "    lcs_lengths = {(i, j): 0 for i in range(m+1) for j in range(n+1)}\n",
        "    for node in top_order:\n",
        "        i, j = node\n",
        "        if i == m or j == n:\n",
        "            lcs_lengths[node] = 0\n",
        "        elif X[i] == Y[j]:\n",
        "            lcs_lengths[node] = 1 + lcs_lengths[(i+1, j+1)]\n",
        "        else:\n",
        "            lcs_lengths[node] = max(lcs_lengths[(i+1, j)], lcs_lengths[(i, j+1)])\n",
        "    # Reconstruct LCS\n",
        "    lcs = []\n",
        "    i, j = 0, 0\n",
        "    while i < m and j < n:\n",
        "        if X[i] == Y[j]:\n",
        "            lcs.append(X[i])\n",
        "            i += 1\n",
        "            j += 1\n",
        "        elif lcs_lengths[(i+1, j)] >= lcs_lengths[(i, j+1)]:\n",
        "            i += 1\n",
        "        else:\n",
        "            j += 1\n",
        "    return ''.join(lcs)\n",
        "\n",
        "# Example usage:\n",
        "X = \"ABCBDAB\"\n",
        "Y = \"BDCAB\"\n",
        "print(\"Longest Common Subsequence:\", longest_common_subsequence(X, Y))  # Output: \"BCAB\"\n"
      ]
    },
    {
      "cell_type": "markdown",
      "source": [
        "#LIS with DAG"
      ],
      "metadata": {
        "id": "TrlvNL6Mw2Wv"
      }
    },
    {
      "cell_type": "code",
      "source": [
        "from collections import defaultdict\n",
        "\n",
        "def longest_increasing_subsequence(nums):\n",
        "    # Construct the DAG\n",
        "    graph = defaultdict(list)\n",
        "    for i in range(len(nums)):\n",
        "        for j in range(i+1, len(nums)):\n",
        "            if nums[j] > nums[i]:\n",
        "                graph[i].append(j)\n",
        "\n",
        "    # Perform topological sort\n",
        "    def topological_sort(graph):\n",
        "        visited = set()\n",
        "        stack = []\n",
        "\n",
        "        def dfs(node):\n",
        "            visited.add(node)\n",
        "            for neighbor in graph[node]:\n",
        "                if neighbor not in visited:\n",
        "                    dfs(neighbor)\n",
        "            stack.append(node)\n",
        "\n",
        "        for node in list(graph.keys()):  # Iterate over a copy of the keys\n",
        "            if node not in visited:\n",
        "                dfs(node)\n",
        "\n",
        "        return stack[::-1]\n",
        "\n",
        "    top_order = topological_sort(graph)\n",
        "\n",
        "    # Dynamic Programming to find the longest increasing subsequence\n",
        "    dp = [1] * len(nums)\n",
        "    for node in top_order:\n",
        "        for neighbor in graph[node]:\n",
        "            dp[neighbor] = max(dp[neighbor], dp[node] + 1)\n",
        "\n",
        "    # Find the maximum value in dp array\n",
        "    max_length = max(dp)\n",
        "    return max_length\n",
        "\n",
        "# Example usage:\n",
        "nums = [10, 22, 9, 33, 21, 50, 41, 60, 80]\n",
        "print(\"Length of Longest Increasing Subsequence:\", longest_increasing_subsequence(nums))\n"
      ],
      "metadata": {
        "colab": {
          "base_uri": "https://localhost:8080/"
        },
        "id": "3Y_zRFOXw36O",
        "outputId": "c1a29875-9bd9-41e9-cdc8-e54610d35f89"
      },
      "execution_count": 7,
      "outputs": [
        {
          "output_type": "stream",
          "name": "stdout",
          "text": [
            "Length of Longest Increasing Subsequence: 6\n"
          ]
        }
      ]
    },
    {
      "cell_type": "markdown",
      "source": [
        "#Alternating Coin Game with DAG"
      ],
      "metadata": {
        "id": "FuP5OGc0xNdP"
      }
    },
    {
      "cell_type": "code",
      "source": [
        "class DAG:\n",
        "    def __init__(self, num_nodes):\n",
        "        self.num_nodes = num_nodes\n",
        "        self.adj_list = [[] for _ in range(num_nodes)]\n",
        "        self.in_degree = [0] * num_nodes\n",
        "\n",
        "    def add_edge(self, u, v):\n",
        "        self.adj_list[u].append(v)\n",
        "        self.in_degree[v] += 1\n",
        "\n",
        "    def topological_sort(self):\n",
        "        stack = []\n",
        "        visited = [False] * self.num_nodes\n",
        "\n",
        "        for node in range(self.num_nodes):\n",
        "            if self.in_degree[node] == 0:\n",
        "                stack.append(node)\n",
        "\n",
        "        topo_order = []\n",
        "\n",
        "        while stack:\n",
        "            u = stack.pop()\n",
        "            topo_order.append(u)\n",
        "\n",
        "            for v in self.adj_list[u]:\n",
        "                self.in_degree[v] -= 1\n",
        "                if self.in_degree[v] == 0:\n",
        "                    stack.append(v)\n",
        "\n",
        "        return topo_order\n",
        "\n",
        "def alternating_coin_problem(n, coins):\n",
        "    dag = DAG(n)\n",
        "\n",
        "    for i in range(n):\n",
        "        for j in range(i + 1, n):\n",
        "            if coins[i] != coins[j]:\n",
        "                dag.add_edge(i, j)\n",
        "\n",
        "    topo_order = dag.topological_sort()\n",
        "\n",
        "    dp = [0] * n\n",
        "\n",
        "    for node in topo_order:\n",
        "        for next_node in dag.adj_list[node]:\n",
        "            dp[next_node] = max(dp[next_node], dp[node] + 1)\n",
        "\n",
        "    return max(dp) + 1\n",
        "\n",
        "# Example usage:\n",
        "n = 5\n",
        "coins = [1, 0, 1, 0, 1]  # Sample coins list\n",
        "result = alternating_coin_problem(n, coins)\n",
        "print(\"Maximum alternating subsequence length:\", result)\n"
      ],
      "metadata": {
        "colab": {
          "base_uri": "https://localhost:8080/"
        },
        "id": "die0oDlPyQIj",
        "outputId": "3607a9ea-2aa8-4c8a-da53-5a7aed408a88"
      },
      "execution_count": 8,
      "outputs": [
        {
          "output_type": "stream",
          "name": "stdout",
          "text": [
            "Maximum alternating subsequence length: 5\n"
          ]
        }
      ]
    }
  ]
}