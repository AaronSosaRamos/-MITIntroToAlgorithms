{
  "nbformat": 4,
  "nbformat_minor": 0,
  "metadata": {
    "colab": {
      "provenance": []
    },
    "kernelspec": {
      "name": "python3",
      "display_name": "Python 3"
    },
    "language_info": {
      "name": "python"
    }
  },
  "cells": [
    {
      "cell_type": "markdown",
      "source": [
        "#Bellman-Ford Algorithm"
      ],
      "metadata": {
        "id": "XV4q0wmmyNhb"
      }
    },
    {
      "cell_type": "markdown",
      "source": [
        "Source: https://www.programiz.com/dsa/bellman-ford-algorithm"
      ],
      "metadata": {
        "id": "jrYelz-QyPaM"
      }
    },
    {
      "cell_type": "code",
      "execution_count": 1,
      "metadata": {
        "colab": {
          "base_uri": "https://localhost:8080/"
        },
        "id": "0PeE-hRryL4B",
        "outputId": "47b3858f-d550-4628-8b54-bc9be5cf3a17"
      },
      "outputs": [
        {
          "output_type": "stream",
          "name": "stdout",
          "text": [
            "Vertex Distance from Source\n",
            "0\t\t0\n",
            "1\t\t5\n",
            "2\t\t4\n",
            "3\t\t8\n",
            "4\t\tinf\n"
          ]
        }
      ],
      "source": [
        "# Bellman Ford Algorithm in Python\n",
        "\n",
        "\n",
        "class Graph:\n",
        "\n",
        "    def __init__(self, vertices):\n",
        "        self.V = vertices   # Total number of vertices in the graph\n",
        "        self.graph = []     # Array of edges\n",
        "\n",
        "    # Add edges\n",
        "    def add_edge(self, s, d, w):\n",
        "        self.graph.append([s, d, w])\n",
        "\n",
        "    # Print the solution\n",
        "    def print_solution(self, dist):\n",
        "        print(\"Vertex Distance from Source\")\n",
        "        for i in range(self.V):\n",
        "            print(\"{0}\\t\\t{1}\".format(i, dist[i]))\n",
        "\n",
        "    def bellman_ford(self, src):\n",
        "\n",
        "        # Step 1: fill the distance array and predecessor array\n",
        "        dist = [float(\"Inf\")] * self.V\n",
        "        # Mark the source vertex\n",
        "        dist[src] = 0\n",
        "\n",
        "        # Step 2: relax edges |V| - 1 times\n",
        "        for _ in range(self.V - 1):\n",
        "            for s, d, w in self.graph:\n",
        "                if dist[s] != float(\"Inf\") and dist[s] + w < dist[d]:\n",
        "                    dist[d] = dist[s] + w\n",
        "\n",
        "        # Step 3: detect negative cycle\n",
        "        # if value changes then we have a negative cycle in the graph\n",
        "        # and we cannot find the shortest distances\n",
        "        for s, d, w in self.graph:\n",
        "            if dist[s] != float(\"Inf\") and dist[s] + w < dist[d]:\n",
        "                print(\"Graph contains negative weight cycle\")\n",
        "                return\n",
        "\n",
        "        # No negative weight cycle found!\n",
        "        # Print the distance and predecessor array\n",
        "        self.print_solution(dist)\n",
        "\n",
        "\n",
        "g = Graph(5)\n",
        "g.add_edge(0, 1, 5)\n",
        "g.add_edge(0, 2, 4)\n",
        "g.add_edge(1, 3, 3)\n",
        "g.add_edge(2, 1, 6)\n",
        "g.add_edge(3, 2, 2)\n",
        "\n",
        "g.bellman_ford(0)"
      ]
    },
    {
      "cell_type": "code",
      "source": [
        "g = Graph(5)\n",
        "g.add_edge(0, 1, -5)\n",
        "g.add_edge(0, 2, -4)\n",
        "g.add_edge(1, 3, -3)\n",
        "g.add_edge(2, 1, -6)\n",
        "g.add_edge(3, 2, -2)\n",
        "\n",
        "g.bellman_ford(0)"
      ],
      "metadata": {
        "colab": {
          "base_uri": "https://localhost:8080/"
        },
        "id": "Y3wz-BilyW2z",
        "outputId": "1c346838-4fb1-4fe8-830d-1cf1d5a5947a"
      },
      "execution_count": 3,
      "outputs": [
        {
          "output_type": "stream",
          "name": "stdout",
          "text": [
            "Graph contains negative weight cycle\n"
          ]
        }
      ]
    }
  ]
}