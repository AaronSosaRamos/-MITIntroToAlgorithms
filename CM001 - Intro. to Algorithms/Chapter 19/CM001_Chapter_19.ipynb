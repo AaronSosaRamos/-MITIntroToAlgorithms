{
  "nbformat": 4,
  "nbformat_minor": 0,
  "metadata": {
    "colab": {
      "provenance": []
    },
    "kernelspec": {
      "name": "python3",
      "display_name": "Python 3"
    },
    "language_info": {
      "name": "python"
    }
  },
  "cells": [
    {
      "cell_type": "markdown",
      "source": [
        "#P (Polynomial Time)"
      ],
      "metadata": {
        "id": "eGdt0WbLRffS"
      }
    },
    {
      "cell_type": "markdown",
      "source": [
        "P is the class of decision problems that can be solved by a deterministic Turing machine in polynomial time.\n",
        "\n"
      ],
      "metadata": {
        "id": "xxcodfmXRhdw"
      }
    },
    {
      "cell_type": "code",
      "execution_count": 1,
      "metadata": {
        "colab": {
          "base_uri": "https://localhost:8080/"
        },
        "id": "T-63FnJIQWKV",
        "outputId": "9e04b1f2-f6f2-4244-d7bd-f02c399f1d5f"
      },
      "outputs": [
        {
          "output_type": "stream",
          "name": "stdout",
          "text": [
            "Enter input size: 6\n",
            "Is in P: True\n"
          ]
        }
      ],
      "source": [
        "def is_in_P(input_size):\n",
        "    # O(n^2) time complexity example\n",
        "    return input_size ** 2 <= 1000000\n",
        "\n",
        "# Example usage\n",
        "input_size = int(input(\"Enter input size: \"))\n",
        "print(\"Is in P:\", is_in_P(input_size))"
      ]
    },
    {
      "cell_type": "markdown",
      "source": [
        "#NP (Nondeterministic Polynomial Time)"
      ],
      "metadata": {
        "id": "-hjt0PeiRyyQ"
      }
    },
    {
      "cell_type": "markdown",
      "source": [
        "NP is the class of decision problems for which a proposed solution can be verified in polynomial time."
      ],
      "metadata": {
        "id": "LOuFcuETR1EA"
      }
    },
    {
      "cell_type": "code",
      "source": [
        "def is_in_NP(problem_instance, proposed_solution):\n",
        "    # Check if the proposed solution is correct for the given problem instance\n",
        "    # O(n^2) time complexity example\n",
        "    return proposed_solution ** 2 == problem_instance\n",
        "\n",
        "# Example usage\n",
        "problem_instance = int(input(\"Enter problem instance: \"))\n",
        "proposed_solution = int(input(\"Enter proposed solution: \"))\n",
        "print(\"Is in NP:\", is_in_NP(problem_instance, proposed_solution))\n"
      ],
      "metadata": {
        "colab": {
          "base_uri": "https://localhost:8080/"
        },
        "id": "q3kfpuVZR05Q",
        "outputId": "7a415068-13c5-44cb-f750-cb7acc5916f4"
      },
      "execution_count": 4,
      "outputs": [
        {
          "output_type": "stream",
          "name": "stdout",
          "text": [
            "Enter problem instance: 64\n",
            "Enter proposed solution: 8\n",
            "Is in NP: True\n"
          ]
        }
      ]
    },
    {
      "cell_type": "markdown",
      "source": [
        "#EXP (Exponential Time)"
      ],
      "metadata": {
        "id": "atVJR6a_SAqO"
      }
    },
    {
      "cell_type": "markdown",
      "source": [
        "EXP is the class of decision problems that can be solved by a deterministic Turing machine in exponential time.\n",
        "\n"
      ],
      "metadata": {
        "id": "HLjtH8CZSCdN"
      }
    },
    {
      "cell_type": "code",
      "source": [
        "def is_in_EXP(input_size):\n",
        "    # O(2^n) time complexity example\n",
        "    return 2 ** input_size <= 1000000\n",
        "\n",
        "# Example usage\n",
        "input_size = int(input(\"Enter input size: \"))\n",
        "print(\"Is in EXP:\", is_in_EXP(input_size))\n"
      ],
      "metadata": {
        "colab": {
          "base_uri": "https://localhost:8080/"
        },
        "id": "RLZujHPLSDl9",
        "outputId": "3cd618bc-af51-415d-e103-9955b8b64e12"
      },
      "execution_count": 5,
      "outputs": [
        {
          "output_type": "stream",
          "name": "stdout",
          "text": [
            "Enter input size: 9\n",
            "Is in EXP: True\n"
          ]
        }
      ]
    },
    {
      "cell_type": "markdown",
      "source": [
        "#R (Recursive Enumerable)"
      ],
      "metadata": {
        "id": "RQRDYmG6SIwy"
      }
    },
    {
      "cell_type": "markdown",
      "source": [
        "R is the class of decision problems that are recursively enumerable.\n",
        "\n"
      ],
      "metadata": {
        "id": "i0cqLE8eSWq_"
      }
    },
    {
      "cell_type": "code",
      "source": [
        "def is_in_R(problem_instance):\n",
        "    # Placeholder function, as checking if a problem is in R is non-trivial\n",
        "    # This function always returns True for demonstration purposes\n",
        "    return True\n",
        "\n",
        "# Example usage\n",
        "problem_instance = input(\"Enter problem instance: \")\n",
        "print(\"Is in R:\", is_in_R(problem_instance))\n"
      ],
      "metadata": {
        "colab": {
          "base_uri": "https://localhost:8080/"
        },
        "id": "vAfvMesdSJd1",
        "outputId": "6eb0b2ae-213d-4a79-d48a-70107b99fdab"
      },
      "execution_count": 6,
      "outputs": [
        {
          "output_type": "stream",
          "name": "stdout",
          "text": [
            "Enter problem instance: 9\n",
            "Is in R: True\n"
          ]
        }
      ]
    },
    {
      "cell_type": "markdown",
      "source": [
        "#Most problems are uncomputable"
      ],
      "metadata": {
        "id": "Lo1sBibxS15w"
      }
    },
    {
      "cell_type": "markdown",
      "source": [
        "It's a fundamental result in computer science, established by Alan Turing, that most problems are uncomputable. This means that there are problems for which no algorithm can correctly solve all instances of the problem. One classic example is the Halting Problem, which asks whether a given program halts or runs forever on a given input. Here's a Python example demonstrating the uncomputability of the Halting Problem:"
      ],
      "metadata": {
        "id": "bVYGUGCRS1rY"
      }
    },
    {
      "cell_type": "code",
      "source": [
        "def halts(program, input):\n",
        "    # Placeholder function to simulate the Halting Problem\n",
        "    # In reality, this function cannot be implemented as it's undecidable\n",
        "    # This function always returns False for demonstration purposes\n",
        "    return False\n",
        "\n",
        "# Example usage\n",
        "program = \"print('Hello, world!')\"  # Example program\n",
        "input_data = \"anything\"  # Example input\n",
        "print(\"Does the program halt?\", halts(program, input_data))\n"
      ],
      "metadata": {
        "colab": {
          "base_uri": "https://localhost:8080/"
        },
        "id": "tJ8aI6LDS3i3",
        "outputId": "78163c53-74a3-47b5-d597-3ae854aed6bb"
      },
      "execution_count": 7,
      "outputs": [
        {
          "output_type": "stream",
          "name": "stdout",
          "text": [
            "Does the program halt? False\n"
          ]
        }
      ]
    },
    {
      "cell_type": "markdown",
      "source": [
        "#Hardness:"
      ],
      "metadata": {
        "id": "syG3qGjlTRCV"
      }
    },
    {
      "cell_type": "markdown",
      "source": [
        "Hardness refers to how difficult a problem is to solve. A problem is said to be hard if there is no efficient algorithm known for solving it. In complexity theory, we often talk about two types of hardness:\n",
        "\n",
        "\n",
        "*   Time Complexity Hardness: This refers to problems for which no algorithm with a better-than-polynomial time complexity is known. These problems are often referred to as \"intractable\" or \"computationally expensive.\"\n",
        "*  Space Complexity Hardness: This refers to problems for which no algorithm with a better-than-polynomial space complexity is known. These problems consume a large amount of memory.\n",
        "\n",
        "\n"
      ],
      "metadata": {
        "id": "B25r995BTR_2"
      }
    },
    {
      "cell_type": "markdown",
      "source": [
        "#Completeness:"
      ],
      "metadata": {
        "id": "rwlZCfupUKBO"
      }
    },
    {
      "cell_type": "markdown",
      "source": [
        "An algorithm is considered complete if for any input it correctly reports whether there is a solution in a finite amount of time.\n",
        "Completeness refers to the property of a problem within a certain class of problems (e.g., NP-complete) such that every problem in that class can be reduced to it. If a problem is both hard and complete within a certain class, it is called \"NP-hard.\" If, in addition, it belongs to the class itself, it is called \"NP-complete.\""
      ],
      "metadata": {
        "id": "cCK6yfGETuiY"
      }
    },
    {
      "cell_type": "code",
      "source": [
        "class Problem:\n",
        "    def __init__(self):\n",
        "        pass\n",
        "\n",
        "    def is_solution(self, candidate_solution):\n",
        "        \"\"\"\n",
        "        Check if the candidate solution satisfies the problem's constraints.\n",
        "        \"\"\"\n",
        "        pass\n",
        "\n",
        "    def solve(self):\n",
        "        \"\"\"\n",
        "        Attempt to solve the problem.\n",
        "        \"\"\"\n",
        "        pass\n",
        "\n",
        "class TimeComplexityHardness(Problem):\n",
        "    def __init__(self):\n",
        "        super().__init__()\n",
        "\n",
        "    def solve(self):\n",
        "        \"\"\"\n",
        "        Since this problem is time complexity hard, a polynomial-time algorithm is not known.\n",
        "        \"\"\"\n",
        "        print(\"This problem is time complexity hard.\")\n",
        "\n",
        "class SpaceComplexityHardness(Problem):\n",
        "    def __init__(self):\n",
        "        super().__init__()\n",
        "\n",
        "    def solve(self):\n",
        "        \"\"\"\n",
        "        Since this problem is space complexity hard, a polynomial-space algorithm is not known.\n",
        "        \"\"\"\n",
        "        print(\"This problem is space complexity hard.\")\n",
        "\n",
        "class NPCompleteProblem(Problem):\n",
        "    def __init__(self):\n",
        "        super().__init__()\n",
        "\n",
        "    def solve(self):\n",
        "        \"\"\"\n",
        "        This is an example of an NP-complete problem.\n",
        "        \"\"\"\n",
        "        print(\"This problem is NP-complete.\")\n",
        "\n",
        "class NPHardProblem(Problem):\n",
        "    def __init__(self):\n",
        "        super().__init__()\n",
        "\n",
        "    def solve(self):\n",
        "        \"\"\"\n",
        "        This is an example of an NP-hard problem.\n",
        "        \"\"\"\n",
        "        print(\"This problem is NP-hard.\")\n",
        "\n",
        "# Example usage\n",
        "if __name__ == \"__main__\":\n",
        "    time_hard_problem = TimeComplexityHardness()\n",
        "    space_hard_problem = SpaceComplexityHardness()\n",
        "    np_complete_problem = NPCompleteProblem()\n",
        "    np_hard_problem = NPHardProblem()\n",
        "\n",
        "    time_hard_problem.solve()\n",
        "    space_hard_problem.solve()\n",
        "    np_complete_problem.solve()\n",
        "    np_hard_problem.solve()\n"
      ],
      "metadata": {
        "colab": {
          "base_uri": "https://localhost:8080/"
        },
        "id": "Du_CV2XKUMWV",
        "outputId": "e0ab4094-754e-4dd3-8943-457d5ae276eb"
      },
      "execution_count": 8,
      "outputs": [
        {
          "output_type": "stream",
          "name": "stdout",
          "text": [
            "This problem is time complexity hard.\n",
            "This problem is space complexity hard.\n",
            "This problem is NP-complete.\n",
            "This problem is NP-hard.\n"
          ]
        }
      ]
    },
    {
      "cell_type": "markdown",
      "source": [
        "#Reduction for NP-Completeness"
      ],
      "metadata": {
        "id": "bZo2BZn0Uspw"
      }
    },
    {
      "cell_type": "code",
      "source": [
        "class Reduction:\n",
        "    @staticmethod\n",
        "    def reduce(problem_a, problem_b):\n",
        "        \"\"\"\n",
        "        Reduce problem_a to problem_b.\n",
        "        \"\"\"\n",
        "        print(f\"Reducing {problem_a} to {problem_b}...\")\n",
        "        # Perform reduction steps here\n",
        "        if problem_a.completeness == \"NP-Complete\" and problem_b.complexity == \"NP-Hard\":\n",
        "            print(f\"Reducing {problem_a} to {problem_b} by simulating a Turing machine.\")\n",
        "            print(f\"{problem_a} reduced to {problem_b} successfully.\")\n",
        "            return True\n",
        "        else:\n",
        "            print(\"Reduction not possible.\")\n",
        "            return False\n",
        "\n",
        "class Problem:\n",
        "    def __init__(self, complexity=None, completeness=None):\n",
        "        self.complexity = complexity\n",
        "        self.completeness = completeness\n",
        "\n",
        "    def solve(self):\n",
        "        print(\"Solving the problem...\")\n",
        "\n",
        "    def __str__(self):\n",
        "        complexity_str = self.complexity if self.complexity else \"Not specified\"\n",
        "        completeness_str = self.completeness if self.completeness else \"Not specified\"\n",
        "        return f\"Problem: Complexity - {complexity_str}, Completeness - {completeness_str}\"\n",
        "\n",
        "class TimeComplexityHardness(Problem):\n",
        "    def __init__(self):\n",
        "        super().__init__(complexity=\"Time Complexity Hard\")\n",
        "\n",
        "    def solve(self):\n",
        "        print(\"This problem is time complexity hard.\")\n",
        "\n",
        "class SpaceComplexityHardness(Problem):\n",
        "    def __init__(self):\n",
        "        super().__init__(complexity=\"Space Complexity Hard\")\n",
        "\n",
        "    def solve(self):\n",
        "        print(\"This problem is space complexity hard.\")\n",
        "\n",
        "class NPCompleteProblem(Problem):\n",
        "    def __init__(self):\n",
        "        super().__init__(completeness=\"NP-Complete\")\n",
        "\n",
        "    def solve(self):\n",
        "        print(\"This problem is NP-complete.\")\n",
        "\n",
        "class NPHardProblem(Problem):\n",
        "    def __init__(self):\n",
        "        super().__init__(complexity=\"NP-Hard\")\n",
        "\n",
        "    def solve(self):\n",
        "        print(\"This problem is NP-hard.\")\n",
        "\n",
        "# Example usage\n",
        "if __name__ == \"__main__\":\n",
        "    time_hard_problem = TimeComplexityHardness()\n",
        "    space_hard_problem = SpaceComplexityHardness()\n",
        "    np_complete_problem = NPCompleteProblem()\n",
        "    np_hard_problem = NPHardProblem()\n",
        "\n",
        "    print(time_hard_problem)\n",
        "    print(space_hard_problem)\n",
        "    print(np_complete_problem)\n",
        "    print(np_hard_problem)\n",
        "    print()\n",
        "\n",
        "    # Try reducing NP-complete problem to NP-hard problem\n",
        "    if Reduction.reduce(np_complete_problem, np_hard_problem):\n",
        "        print(\"Reduction successful!\")\n",
        "    else:\n",
        "        print(\"Reduction failed.\")\n"
      ],
      "metadata": {
        "colab": {
          "base_uri": "https://localhost:8080/"
        },
        "id": "XNDn127BUuWB",
        "outputId": "6c9b545b-ff7d-42a4-f97c-4be6f44c3581"
      },
      "execution_count": 14,
      "outputs": [
        {
          "output_type": "stream",
          "name": "stdout",
          "text": [
            "Problem: Complexity - Time Complexity Hard, Completeness - Not specified\n",
            "Problem: Complexity - Space Complexity Hard, Completeness - Not specified\n",
            "Problem: Complexity - Not specified, Completeness - NP-Complete\n",
            "Problem: Complexity - NP-Hard, Completeness - Not specified\n",
            "\n",
            "Reducing Problem: Complexity - Not specified, Completeness - NP-Complete to Problem: Complexity - NP-Hard, Completeness - Not specified...\n",
            "Reducing Problem: Complexity - Not specified, Completeness - NP-Complete to Problem: Complexity - NP-Hard, Completeness - Not specified by simulating a Turing machine.\n",
            "Problem: Complexity - Not specified, Completeness - NP-Complete reduced to Problem: Complexity - NP-Hard, Completeness - Not specified successfully.\n",
            "Reduction successful!\n"
          ]
        }
      ]
    }
  ]
}