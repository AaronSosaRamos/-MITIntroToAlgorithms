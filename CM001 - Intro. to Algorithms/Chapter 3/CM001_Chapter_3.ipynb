{
  "nbformat": 4,
  "nbformat_minor": 0,
  "metadata": {
    "colab": {
      "provenance": []
    },
    "kernelspec": {
      "name": "python3",
      "display_name": "Python 3"
    },
    "language_info": {
      "name": "python"
    }
  },
  "cells": [
    {
      "cell_type": "markdown",
      "source": [
        "# Asymptotic behavior of a function"
      ],
      "metadata": {
        "id": "8RHO8dpJKaxI"
      }
    },
    {
      "cell_type": "markdown",
      "source": [
        "\n",
        "\n",
        "*   Big O: Worst Case Scenario (Upper Bound - How slow the algo. is)\n",
        "*   Big Theta (Θ): Average - Typical Case Scenario\n",
        "*   Big Omega (Ω): Best Case Scenario (Lower Bound - How fast the algo. is)"
      ],
      "metadata": {
        "id": "9mpYqWP7KeRc"
      }
    },
    {
      "cell_type": "code",
      "execution_count": 10,
      "metadata": {
        "colab": {
          "base_uri": "https://localhost:8080/"
        },
        "id": "9bqM8mxkJLjk",
        "outputId": "ca85cb07-c182-4a89-a5e7-a60c848f52a0"
      },
      "outputs": [
        {
          "output_type": "stream",
          "name": "stdout",
          "text": [
            "Big-O notation: O(1)\n",
            "Big-Theta notation: O(1)\n",
            "Big-Omega notation: O(1)\n"
          ]
        }
      ],
      "source": [
        "from sympy import symbols, O, oo, simplify\n",
        "\n",
        "def big_o(expression):\n",
        "    n = symbols('n')\n",
        "    return simplify(O(expression, n).as_expr())\n",
        "\n",
        "def big_theta(expression):\n",
        "    n = symbols('n')\n",
        "    return simplify(O(expression, n).simplify())\n",
        "\n",
        "def big_omega(expression):\n",
        "    n = symbols('n')\n",
        "    return simplify(O(expression, n).simplify(infinity=oo))\n",
        "\n",
        "expression = 'n**3 + 2*n**2 + 5*n + 1'\n",
        "print(\"Big-O notation:\", big_o(expression))\n",
        "print(\"Big-Theta notation:\", big_theta(expression))\n",
        "print(\"Big-Omega notation:\", big_omega(expression))"
      ]
    },
    {
      "cell_type": "code",
      "source": [
        "expression = 'n'\n",
        "print(\"Big-O notation:\", big_o(expression))\n",
        "print(\"Big-Theta notation:\", big_theta(expression))\n",
        "print(\"Big-Omega notation:\", big_omega(expression))"
      ],
      "metadata": {
        "colab": {
          "base_uri": "https://localhost:8080/"
        },
        "id": "wwcU3qrxM1KI",
        "outputId": "cfc9743d-bb84-4daa-b343-eac9164b85b4"
      },
      "execution_count": 11,
      "outputs": [
        {
          "output_type": "stream",
          "name": "stdout",
          "text": [
            "Big-O notation: O(n)\n",
            "Big-Theta notation: O(n)\n",
            "Big-Omega notation: O(n)\n"
          ]
        }
      ]
    },
    {
      "cell_type": "code",
      "source": [
        "expression = 'n**(1/2)'\n",
        "print(\"Big-O notation:\", big_o(expression))\n",
        "print(\"Big-Theta notation:\", big_theta(expression))\n",
        "print(\"Big-Omega notation:\", big_omega(expression))"
      ],
      "metadata": {
        "colab": {
          "base_uri": "https://localhost:8080/"
        },
        "id": "x3PKBcdnM6S3",
        "outputId": "2f6bbbcb-aa5b-4d4d-e14f-4cbee7c824d2"
      },
      "execution_count": 12,
      "outputs": [
        {
          "output_type": "stream",
          "name": "stdout",
          "text": [
            "Big-O notation: O(sqrt(n))\n",
            "Big-Theta notation: O(sqrt(n))\n",
            "Big-Omega notation: O(sqrt(n))\n"
          ]
        }
      ]
    },
    {
      "cell_type": "code",
      "source": [
        "expression = 'nlog(n)'\n",
        "print(\"Big-O notation:\", big_o(expression))\n",
        "print(\"Big-Theta notation:\", big_theta(expression))\n",
        "print(\"Big-Omega notation:\", big_omega(expression))"
      ],
      "metadata": {
        "colab": {
          "base_uri": "https://localhost:8080/"
        },
        "id": "l037DPiLNMTy",
        "outputId": "1a72dbfc-a2cb-41ca-e325-b4002bee32a0"
      },
      "execution_count": 13,
      "outputs": [
        {
          "output_type": "stream",
          "name": "stdout",
          "text": [
            "Big-O notation: O(nlog(n))\n",
            "Big-Theta notation: O(nlog(n))\n",
            "Big-Omega notation: O(nlog(n))\n"
          ]
        }
      ]
    }
  ]
}