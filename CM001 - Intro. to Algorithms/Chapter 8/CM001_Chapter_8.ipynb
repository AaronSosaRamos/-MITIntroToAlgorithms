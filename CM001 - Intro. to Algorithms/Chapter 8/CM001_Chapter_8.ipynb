{
  "nbformat": 4,
  "nbformat_minor": 0,
  "metadata": {
    "colab": {
      "provenance": []
    },
    "kernelspec": {
      "name": "python3",
      "display_name": "Python 3"
    },
    "language_info": {
      "name": "python"
    }
  },
  "cells": [
    {
      "cell_type": "markdown",
      "source": [
        "# AVL Sort"
      ],
      "metadata": {
        "id": "wvBeSkIPerqz"
      }
    },
    {
      "cell_type": "code",
      "execution_count": 1,
      "metadata": {
        "id": "_MH2mFAb6XOQ",
        "colab": {
          "base_uri": "https://localhost:8080/"
        },
        "outputId": "2996ceb6-0591-46c5-cfe8-ff161ea70e17"
      },
      "outputs": [
        {
          "output_type": "stream",
          "name": "stdout",
          "text": [
            "Original array: [5, 3, 6, 2, 4, 1]\n",
            "Sorted array: 1 2 3 4 5 6 "
          ]
        }
      ],
      "source": [
        "class AVLNode:\n",
        "    def __init__(self, key):\n",
        "        self.key = key\n",
        "        self.left = None\n",
        "        self.right = None\n",
        "        self.height = 1\n",
        "\n",
        "\n",
        "class AVLTree:\n",
        "    def __init__(self):\n",
        "        self.root = None\n",
        "\n",
        "    def height(self, node):\n",
        "        if node is None:\n",
        "            return 0\n",
        "        return node.height\n",
        "\n",
        "    def balance(self, node):\n",
        "        if node is None:\n",
        "            return 0\n",
        "        return self.height(node.left) - self.height(node.right)\n",
        "\n",
        "    def rotate_right(self, y):\n",
        "        x = y.left\n",
        "        T2 = x.right\n",
        "\n",
        "        x.right = y\n",
        "        y.left = T2\n",
        "\n",
        "        y.height = 1 + max(self.height(y.left), self.height(y.right))\n",
        "        x.height = 1 + max(self.height(x.left), self.height(x.right))\n",
        "\n",
        "        return x\n",
        "\n",
        "    def rotate_left(self, x):\n",
        "        y = x.right\n",
        "        T2 = y.left\n",
        "\n",
        "        y.left = x\n",
        "        x.right = T2\n",
        "\n",
        "        x.height = 1 + max(self.height(x.left), self.height(x.right))\n",
        "        y.height = 1 + max(self.height(y.left), self.height(y.right))\n",
        "\n",
        "        return y\n",
        "\n",
        "    def insert(self, root, key):\n",
        "        if not root:\n",
        "            return AVLNode(key)\n",
        "        elif key < root.key:\n",
        "            root.left = self.insert(root.left, key)\n",
        "        else:\n",
        "            root.right = self.insert(root.right, key)\n",
        "\n",
        "        root.height = 1 + max(self.height(root.left), self.height(root.right))\n",
        "\n",
        "        balance = self.balance(root)\n",
        "\n",
        "        if balance > 1:\n",
        "            if key < root.left.key:\n",
        "                return self.rotate_right(root)\n",
        "            else:\n",
        "                root.left = self.rotate_left(root.left)\n",
        "                return self.rotate_right(root)\n",
        "\n",
        "        if balance < -1:\n",
        "            if key > root.right.key:\n",
        "                return self.rotate_left(root)\n",
        "            else:\n",
        "                root.right = self.rotate_right(root.right)\n",
        "                return self.rotate_left(root)\n",
        "\n",
        "        return root\n",
        "\n",
        "    def sort(self, root):\n",
        "        if root:\n",
        "            self.sort(root.left)\n",
        "            print(root.key, end=' ')\n",
        "            self.sort(root.right)\n",
        "\n",
        "    def avl_sort(self, arr):\n",
        "        for key in arr:\n",
        "            self.root = self.insert(self.root, key)\n",
        "        self.sort(self.root)\n",
        "\n",
        "\n",
        "if __name__ == \"__main__\":\n",
        "    tree = AVLTree()\n",
        "    arr = [5, 3, 6, 2, 4, 1]\n",
        "    print(\"Original array:\", arr)\n",
        "    print(\"Sorted array:\", end=' ')\n",
        "    tree.avl_sort(arr)\n"
      ]
    },
    {
      "cell_type": "markdown",
      "source": [
        "# Depth-First Search"
      ],
      "metadata": {
        "id": "A1mDawjvfW5E"
      }
    },
    {
      "cell_type": "code",
      "source": [
        "class Graph:\n",
        "    def __init__(self, vertices):\n",
        "        self.V = vertices\n",
        "        self.adj_list = [[] for _ in range(vertices)]\n",
        "\n",
        "    def add_edge(self, u, v):\n",
        "        self.adj_list[u].append(v)\n",
        "\n",
        "    def dfs_search_util(self, v, target, visited):\n",
        "        if v == target:\n",
        "            return True\n",
        "\n",
        "        visited[v] = True\n",
        "\n",
        "        for i in self.adj_list[v]:\n",
        "            if not visited[i]:\n",
        "                if self.dfs_search_util(i, target, visited):\n",
        "                    return True\n",
        "        return False\n",
        "\n",
        "    def dfs_search(self, start, target):\n",
        "        visited = [False] * self.V\n",
        "        return self.dfs_search_util(start, target, visited)\n",
        "\n",
        "\n",
        "if __name__ == \"__main__\":\n",
        "    graph = Graph(4)\n",
        "    graph.add_edge(0, 1)\n",
        "    graph.add_edge(0, 2)\n",
        "    graph.add_edge(1, 2)\n",
        "    graph.add_edge(2, 0)\n",
        "    graph.add_edge(2, 3)\n",
        "    graph.add_edge(3, 3)\n",
        "\n",
        "    start_node = 2\n",
        "    target_node = 3\n",
        "\n",
        "    print(\"Depth-First Search:\")\n",
        "    if graph.dfs_search(start_node, target_node):\n",
        "        print(f\"Target node {target_node} is reachable from start node {start_node}.\")\n",
        "    else:\n",
        "        print(f\"Target node {target_node} is not reachable from start node {start_node}.\")\n"
      ],
      "metadata": {
        "colab": {
          "base_uri": "https://localhost:8080/"
        },
        "id": "c2VXrGd3fauv",
        "outputId": "5c08d1c0-cb26-406c-f60d-72f7a1513488"
      },
      "execution_count": 3,
      "outputs": [
        {
          "output_type": "stream",
          "name": "stdout",
          "text": [
            "Depth-First Search:\n",
            "Target node 3 is reachable from start node 2.\n"
          ]
        }
      ]
    },
    {
      "cell_type": "markdown",
      "source": [
        "Depth-First Search (DFS):\n",
        "- Starts at a chosen node and explores as far as possible along each branch before backtracking.\n",
        "- Uses a stack or recursion to keep track of nodes to visit.\n",
        "- It is not guaranteed to find the shortest path.\n",
        "\n",
        "Breadth-First Search (BFS):\n",
        "- Starts at a chosen node and explores all of the neighbor nodes at the present depth prior to moving on to nodes at the next depth level.\n",
        "- Uses a queue to keep track of nodes to visit.\n",
        "- Guarantees finding the shortest path in an unweighted graph."
      ],
      "metadata": {
        "id": "rvC_jY8Tg_Pb"
      }
    },
    {
      "cell_type": "markdown",
      "source": [
        "# Directed Acyclic Graph (DAG) and Topological Order"
      ],
      "metadata": {
        "id": "TtfCwk_Gh4T6"
      }
    },
    {
      "cell_type": "code",
      "source": [
        "class DAG:\n",
        "    def __init__(self):\n",
        "        self.graph = {}\n",
        "\n",
        "    def add_node(self, node):\n",
        "        if node not in self.graph:\n",
        "            self.graph[node] = []\n",
        "\n",
        "    def add_edge(self, source, destination):\n",
        "        if source in self.graph and destination in self.graph:\n",
        "            self.graph[source].append(destination)\n",
        "        else:\n",
        "            raise ValueError(\"Source or destination node not found in graph\")\n",
        "\n",
        "    def topological_sort_util(self, node, visited, stack):\n",
        "        visited[node] = True\n",
        "        for neighbor in self.graph[node]:\n",
        "            if not visited[neighbor]:\n",
        "                self.topological_sort_util(neighbor, visited, stack)\n",
        "        stack.append(node)\n",
        "\n",
        "    def topological_sort(self):\n",
        "        visited = {node: False for node in self.graph}\n",
        "        stack = []\n",
        "        for node in self.graph:\n",
        "            if not visited[node]:\n",
        "                self.topological_sort_util(node, visited, stack)\n",
        "        return stack[::-1]\n",
        "\n",
        "\n",
        "if __name__ == \"__main__\":\n",
        "    dag = DAG()\n",
        "    dag.add_node('A')\n",
        "    dag.add_node('B')\n",
        "    dag.add_node('C')\n",
        "    dag.add_node('D')\n",
        "    dag.add_node('E')\n",
        "    dag.add_edge('A', 'B')\n",
        "    dag.add_edge('A', 'C')\n",
        "    dag.add_edge('B', 'D')\n",
        "    dag.add_edge('C', 'D')\n",
        "    dag.add_edge('D', 'E')\n",
        "\n",
        "    print(\"Topological order:\", dag.topological_sort())"
      ],
      "metadata": {
        "colab": {
          "base_uri": "https://localhost:8080/"
        },
        "id": "A_vvtlEPh71i",
        "outputId": "fd12f259-b061-4c4f-eafd-762971e2a565"
      },
      "execution_count": 9,
      "outputs": [
        {
          "output_type": "stream",
          "name": "stdout",
          "text": [
            "Topological order: ['A', 'C', 'B', 'D', 'E']\n"
          ]
        }
      ]
    }
  ]
}