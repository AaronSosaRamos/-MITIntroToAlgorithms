{
  "nbformat": 4,
  "nbformat_minor": 0,
  "metadata": {
    "colab": {
      "provenance": []
    },
    "kernelspec": {
      "name": "python3",
      "display_name": "Python 3"
    },
    "language_info": {
      "name": "python"
    }
  },
  "cells": [
    {
      "cell_type": "markdown",
      "source": [
        "#Graphs Algorithms"
      ],
      "metadata": {
        "id": "wFb-sIeXZ9sR"
      }
    },
    {
      "cell_type": "markdown",
      "source": [
        "G = (V,E)\n",
        "V = Vertices\n",
        "E = Edges"
      ],
      "metadata": {
        "id": "t7nFsPP4Z_eH"
      }
    },
    {
      "cell_type": "markdown",
      "source": [
        "Simple Graph:\n",
        "\n",
        "\n",
        "* No self loops\n",
        "* Every edge is distinct\n",
        "\n",
        "|E| = O(|V|^2)\n",
        "\n"
      ],
      "metadata": {
        "id": "tD59pqzibDsO"
      }
    },
    {
      "cell_type": "code",
      "execution_count": 2,
      "metadata": {
        "colab": {
          "base_uri": "https://localhost:8080/"
        },
        "id": "Uib_kwxdX7Jj",
        "outputId": "68d26cab-cf54-4640-e1d9-8aaa1dc0f3e3"
      },
      "outputs": [
        {
          "output_type": "stream",
          "name": "stdout",
          "text": [
            "Directed Graph:\n",
            "0 1 1 0 0\n",
            "0 0 0 1 0\n",
            "0 0 0 0 1\n",
            "0 0 0 0 0\n",
            "0 0 0 0 0\n",
            "Outgoing neighbors of vertex 0: [1, 2]\n",
            "Incoming neighbors of vertex 3: [1]\n",
            "Out-degree of vertex 0: 2\n",
            "In-degree of vertex 3: 1\n",
            "\n",
            "Undirected Graph:\n",
            "0 1 1 0 0\n",
            "1 0 0 1 0\n",
            "1 0 0 0 1\n",
            "0 1 0 0 0\n",
            "0 0 1 0 0\n",
            "Outgoing neighbors of vertex 0: [1, 2]\n",
            "Incoming neighbors of vertex 3: [1]\n",
            "Degree of vertex 0: 2\n",
            "Degree of vertex 3: 1\n"
          ]
        }
      ],
      "source": [
        "class DirectedSimpleGraph:\n",
        "    def __init__(self, num_vertices):\n",
        "        self.num_vertices = num_vertices\n",
        "        self.adj_matrix = [[0] * num_vertices for _ in range(num_vertices)]\n",
        "\n",
        "    def add_edge(self, src, dest):\n",
        "        if src == dest:\n",
        "            print(\"Self-loops are not allowed.\")\n",
        "            return\n",
        "        if self.adj_matrix[src][dest] == 1:\n",
        "            print(\"Edge already exists.\")\n",
        "            return\n",
        "        self.adj_matrix[src][dest] = 1\n",
        "\n",
        "    def outgoing_neighbors(self, vertex):\n",
        "        neighbors = []\n",
        "        for dest, value in enumerate(self.adj_matrix[vertex]):\n",
        "            if value == 1:\n",
        "                neighbors.append(dest)\n",
        "        return neighbors\n",
        "\n",
        "    def incoming_neighbors(self, vertex):\n",
        "        neighbors = []\n",
        "        for src in range(self.num_vertices):\n",
        "            if self.adj_matrix[src][vertex] == 1:\n",
        "                neighbors.append(src)\n",
        "        return neighbors\n",
        "\n",
        "    def out_degree(self, vertex):\n",
        "        return sum(self.adj_matrix[vertex])\n",
        "\n",
        "    def in_degree(self, vertex):\n",
        "        return sum(row[vertex] for row in self.adj_matrix)\n",
        "\n",
        "    def display(self):\n",
        "        for row in self.adj_matrix:\n",
        "            print(\" \".join(map(str, row)))\n",
        "\n",
        "\n",
        "class UndirectedSimpleGraph:\n",
        "    def __init__(self, num_vertices):\n",
        "        self.num_vertices = num_vertices\n",
        "        self.adj_matrix = [[0] * num_vertices for _ in range(num_vertices)]\n",
        "\n",
        "    def add_edge(self, src, dest):\n",
        "        if src == dest:\n",
        "            print(\"Self-loops are not allowed.\")\n",
        "            return\n",
        "        if self.adj_matrix[src][dest] == 1 or self.adj_matrix[dest][src] == 1:\n",
        "            print(\"Edge already exists.\")\n",
        "            return\n",
        "        self.adj_matrix[src][dest] = 1\n",
        "        self.adj_matrix[dest][src] = 1\n",
        "\n",
        "    def outgoing_neighbors(self, vertex):\n",
        "        neighbors = []\n",
        "        for dest, value in enumerate(self.adj_matrix[vertex]):\n",
        "            if value == 1:\n",
        "                neighbors.append(dest)\n",
        "        return neighbors\n",
        "\n",
        "    def incoming_neighbors(self, vertex):\n",
        "        return self.outgoing_neighbors(vertex)\n",
        "\n",
        "    def degree(self, vertex):\n",
        "        return sum(self.adj_matrix[vertex])\n",
        "\n",
        "    def display(self):\n",
        "        for row in self.adj_matrix:\n",
        "            print(\" \".join(map(str, row)))\n",
        "\n",
        "\n",
        "num_vertices = 5\n",
        "directed_graph = DirectedSimpleGraph(num_vertices)\n",
        "directed_graph.add_edge(0, 1)\n",
        "directed_graph.add_edge(0, 2)\n",
        "directed_graph.add_edge(1, 3)\n",
        "directed_graph.add_edge(2, 4)\n",
        "\n",
        "print(\"Directed Graph:\")\n",
        "directed_graph.display()\n",
        "print(\"Outgoing neighbors of vertex 0:\", directed_graph.outgoing_neighbors(0))\n",
        "print(\"Incoming neighbors of vertex 3:\", directed_graph.incoming_neighbors(3))\n",
        "print(\"Out-degree of vertex 0:\", directed_graph.out_degree(0))\n",
        "print(\"In-degree of vertex 3:\", directed_graph.in_degree(3))\n",
        "\n",
        "undirected_graph = UndirectedSimpleGraph(num_vertices)\n",
        "undirected_graph.add_edge(0, 1)\n",
        "undirected_graph.add_edge(0, 2)\n",
        "undirected_graph.add_edge(1, 3)\n",
        "undirected_graph.add_edge(2, 4)\n",
        "\n",
        "print(\"\\nUndirected Graph:\")\n",
        "undirected_graph.display()\n",
        "print(\"Outgoing neighbors of vertex 0:\", undirected_graph.outgoing_neighbors(0))\n",
        "print(\"Incoming neighbors of vertex 3:\", undirected_graph.incoming_neighbors(3))\n",
        "print(\"Degree of vertex 0:\", undirected_graph.degree(0))\n",
        "print(\"Degree of vertex 3:\", undirected_graph.degree(3))"
      ]
    },
    {
      "cell_type": "markdown",
      "source": [
        "# Graph Representations"
      ],
      "metadata": {
        "id": "9UpKcguzcR08"
      }
    },
    {
      "cell_type": "markdown",
      "source": [
        "#Edge List"
      ],
      "metadata": {
        "id": "i2FMvMIjdGV3"
      }
    },
    {
      "cell_type": "code",
      "source": [
        "class SimpleGraph:\n",
        "    def __init__(self, num_vertices):\n",
        "        self.num_vertices = num_vertices\n",
        "        self.adj_matrix = [[0] * num_vertices for _ in range(num_vertices)]\n",
        "\n",
        "    def add_edge(self, src, dest):\n",
        "        if src == dest:\n",
        "            print(\"Self-loops are not allowed.\")\n",
        "            return\n",
        "        if self.adj_matrix[src][dest] == 1:\n",
        "            print(\"Edge already exists.\")\n",
        "            return\n",
        "        self.adj_matrix[src][dest] = 1\n",
        "\n",
        "    def edge_list(self):\n",
        "        edges = []\n",
        "        for src in range(self.num_vertices):\n",
        "            for dest in range(self.num_vertices):\n",
        "                if self.adj_matrix[src][dest] == 1:\n",
        "                    edges.append((src, dest))\n",
        "        return edges\n",
        "\n",
        "\n",
        "num_vertices = 5\n",
        "graph = SimpleGraph(num_vertices)\n",
        "graph.add_edge(0, 1)\n",
        "graph.add_edge(0, 2)\n",
        "graph.add_edge(1, 3)\n",
        "graph.add_edge(2, 4)\n",
        "\n",
        "print(\"Edge List:\")\n",
        "print(graph.edge_list())"
      ],
      "metadata": {
        "colab": {
          "base_uri": "https://localhost:8080/"
        },
        "id": "wcl9jeDgdfsr",
        "outputId": "1e946a57-ee01-48e5-9671-59577b49d26f"
      },
      "execution_count": 3,
      "outputs": [
        {
          "output_type": "stream",
          "name": "stdout",
          "text": [
            "Edge List:\n",
            "[(0, 1), (0, 2), (1, 3), (2, 4)]\n"
          ]
        }
      ]
    },
    {
      "cell_type": "markdown",
      "source": [
        "# Adjacency List"
      ],
      "metadata": {
        "id": "5SeKcxs6dq8t"
      }
    },
    {
      "cell_type": "code",
      "source": [
        "class SimpleGraph:\n",
        "    def __init__(self, num_vertices):\n",
        "        self.num_vertices = num_vertices\n",
        "        self.adj_list = [[] for _ in range(num_vertices)]\n",
        "\n",
        "    def add_edge(self, src, dest):\n",
        "        if src == dest:\n",
        "            print(\"Self-loops are not allowed.\")\n",
        "            return\n",
        "        if dest not in self.adj_list[src]:\n",
        "            self.adj_list[src].append(dest)\n",
        "        if src not in self.adj_list[dest]:\n",
        "            self.adj_list[dest].append(src)\n",
        "\n",
        "    def adjacency_list(self):\n",
        "        return self.adj_list\n",
        "\n",
        "\n",
        "num_vertices = 5\n",
        "graph = SimpleGraph(num_vertices)\n",
        "graph.add_edge(0, 1)\n",
        "graph.add_edge(0, 2)\n",
        "graph.add_edge(1, 3)\n",
        "graph.add_edge(2, 4)\n",
        "\n",
        "print(\"Adjacency List:\")\n",
        "print(graph.adjacency_list())"
      ],
      "metadata": {
        "colab": {
          "base_uri": "https://localhost:8080/"
        },
        "id": "QJ0vmTu-dsoV",
        "outputId": "3525d5dd-3729-4a1d-824d-3c3d614559af"
      },
      "execution_count": 4,
      "outputs": [
        {
          "output_type": "stream",
          "name": "stdout",
          "text": [
            "Adjacency List:\n",
            "[[1, 2], [0, 3], [0, 4], [1], [2]]\n"
          ]
        }
      ]
    },
    {
      "cell_type": "markdown",
      "source": [
        "# Adjacency Matrix"
      ],
      "metadata": {
        "id": "fW1BXt_FefDV"
      }
    },
    {
      "cell_type": "code",
      "source": [
        "class SimpleGraph:\n",
        "    def __init__(self, num_vertices):\n",
        "        self.num_vertices = num_vertices\n",
        "        self.adj_matrix = [[0] * num_vertices for _ in range(num_vertices)]\n",
        "\n",
        "    def add_edge(self, src, dest):\n",
        "        if src == dest:\n",
        "            print(\"Self-loops are not allowed.\")\n",
        "            return\n",
        "        self.adj_matrix[src][dest] = 1\n",
        "        self.adj_matrix[dest][src] = 1\n",
        "\n",
        "    def adjacency_matrix(self):\n",
        "        return self.adj_matrix\n",
        "\n",
        "\n",
        "num_vertices = 5\n",
        "graph = SimpleGraph(num_vertices)\n",
        "graph.add_edge(0, 1)\n",
        "graph.add_edge(0, 2)\n",
        "graph.add_edge(1, 3)\n",
        "graph.add_edge(2, 4)\n",
        "\n",
        "print(\"Adjacency Matrix:\")\n",
        "for row in graph.adjacency_matrix():\n",
        "    print(row)"
      ],
      "metadata": {
        "colab": {
          "base_uri": "https://localhost:8080/"
        },
        "id": "fXw1brjEegdf",
        "outputId": "04dae4f8-e698-4064-92d1-436639c97b48"
      },
      "execution_count": 5,
      "outputs": [
        {
          "output_type": "stream",
          "name": "stdout",
          "text": [
            "Adjacency Matrix:\n",
            "[0, 1, 1, 0, 0]\n",
            "[1, 0, 0, 1, 0]\n",
            "[1, 0, 0, 0, 1]\n",
            "[0, 1, 0, 0, 0]\n",
            "[0, 0, 1, 0, 0]\n"
          ]
        }
      ]
    },
    {
      "cell_type": "markdown",
      "source": [
        "#Model Graph Problems"
      ],
      "metadata": {
        "id": "-eT-jlZ1estm"
      }
    },
    {
      "cell_type": "markdown",
      "source": [
        "Single Pair Reachability and Single Pair Shortest Path"
      ],
      "metadata": {
        "id": "VnTuhEPyfoR-"
      }
    },
    {
      "cell_type": "code",
      "source": [
        "from collections import deque\n",
        "import heapq\n",
        "\n",
        "class SimpleGraph:\n",
        "    def __init__(self, num_vertices):\n",
        "        self.num_vertices = num_vertices\n",
        "        self.adj_list = [[] for _ in range(num_vertices)]\n",
        "\n",
        "    def add_edge(self, src, dest):\n",
        "        if dest not in self.adj_list[src]:\n",
        "            self.adj_list[src].append(dest)\n",
        "        if src not in self.adj_list[dest]:\n",
        "            self.adj_list[dest].append(src)\n",
        "\n",
        "    def is_reachable(self, src, dest):\n",
        "        visited = [False] * self.num_vertices\n",
        "        queue = deque([src])\n",
        "        visited[src] = True\n",
        "\n",
        "        while queue:\n",
        "            current = queue.popleft()\n",
        "            if current == dest:\n",
        "                return True\n",
        "            for neighbor in self.adj_list[current]:\n",
        "                if not visited[neighbor]:\n",
        "                    visited[neighbor] = True\n",
        "                    queue.append(neighbor)\n",
        "        return False\n",
        "\n",
        "    def bfs_shortest_path(self, src, dest):\n",
        "        visited = [False] * self.num_vertices\n",
        "        distance = [-1] * self.num_vertices\n",
        "        queue = deque([src])\n",
        "        visited[src] = True\n",
        "        distance[src] = 0\n",
        "\n",
        "        while queue:\n",
        "            current = queue.popleft()\n",
        "            if current == dest:\n",
        "                return distance[current]\n",
        "            for neighbor in self.adj_list[current]:\n",
        "                if not visited[neighbor]:\n",
        "                    visited[neighbor] = True\n",
        "                    distance[neighbor] = distance[current] + 1\n",
        "                    queue.append(neighbor)\n",
        "        return -1\n",
        "\n",
        "num_vertices = 5\n",
        "graph = SimpleGraph(num_vertices)\n",
        "graph.add_edge(0, 1)\n",
        "graph.add_edge(0, 2)\n",
        "graph.add_edge(1, 3)\n",
        "graph.add_edge(2, 4)\n",
        "\n",
        "src = 0\n",
        "dest = 3\n",
        "print(\"Is {} reachable from {}?\".format(dest, src), graph.is_reachable(src, dest))\n",
        "print(\"Shortest path length from {} to {}: \".format(src, dest), graph.bfs_shortest_path(src, dest))"
      ],
      "metadata": {
        "colab": {
          "base_uri": "https://localhost:8080/"
        },
        "id": "PYDe_XpAfHtu",
        "outputId": "b66cdcd4-df72-41ef-97e2-2f029be31930"
      },
      "execution_count": 8,
      "outputs": [
        {
          "output_type": "stream",
          "name": "stdout",
          "text": [
            "Is 3 reachable from 0? True\n",
            "Shortest path length from 0 to 3:  2\n"
          ]
        }
      ]
    },
    {
      "cell_type": "markdown",
      "source": [
        "Single Pair Reachability and Single Pair Shortest Path, Single Source Shortest Paths (Djikstra Algo.) (Considering weight)"
      ],
      "metadata": {
        "id": "GI4l3UAGh5RH"
      }
    },
    {
      "cell_type": "code",
      "source": [
        "from collections import deque\n",
        "import heapq\n",
        "\n",
        "class SimpleGraph:\n",
        "    def __init__(self, num_vertices):\n",
        "        self.num_vertices = num_vertices\n",
        "        self.adj_list = [[] for _ in range(num_vertices)]\n",
        "\n",
        "    def add_edge(self, src, dest, weight):\n",
        "        if dest not in self.adj_list[src]:\n",
        "            self.adj_list[src].append((dest, weight))\n",
        "        if src not in self.adj_list[dest]:\n",
        "            self.adj_list[dest].append((src, weight))\n",
        "\n",
        "    def is_reachable(self, src, dest):\n",
        "        visited = [False] * self.num_vertices\n",
        "        queue = deque([src])\n",
        "        visited[src] = True\n",
        "\n",
        "        while queue:\n",
        "            current = queue.popleft()\n",
        "            if current == dest:\n",
        "                return True\n",
        "            for neighbor, _ in self.adj_list[current]:\n",
        "                if not visited[neighbor]:\n",
        "                    visited[neighbor] = True\n",
        "                    queue.append(neighbor)\n",
        "        return False\n",
        "\n",
        "    def bfs_shortest_path(self, src, dest): #Breadth-First Search Example\n",
        "        visited = [False] * self.num_vertices\n",
        "        distance = [-1] * self.num_vertices\n",
        "        queue = deque([src])\n",
        "        visited[src] = True\n",
        "        distance[src] = 0\n",
        "\n",
        "        while queue:\n",
        "            current = queue.popleft()\n",
        "            if current == dest:\n",
        "                return distance[current]\n",
        "            for neighbor, _ in self.adj_list[current]:\n",
        "                if not visited[neighbor]:\n",
        "                    visited[neighbor] = True\n",
        "                    distance[neighbor] = distance[current] + 1\n",
        "                    queue.append(neighbor)\n",
        "        return -1\n",
        "\n",
        "    def dijkstra_shortest_paths(self, source):\n",
        "        distances = [float('inf')] * self.num_vertices\n",
        "        distances[source] = 0\n",
        "        visited = [False] * self.num_vertices\n",
        "\n",
        "        priority_queue = [(0, source)]\n",
        "        while priority_queue:\n",
        "            dist_to_current, current_vertex = heapq.heappop(priority_queue)\n",
        "            if visited[current_vertex]:\n",
        "                continue\n",
        "            visited[current_vertex] = True\n",
        "            for neighbor, edge_weight in self.adj_list[current_vertex]:\n",
        "                if not visited[neighbor]:\n",
        "                    new_distance = dist_to_current + edge_weight\n",
        "                    if new_distance < distances[neighbor]:\n",
        "                        distances[neighbor] = new_distance\n",
        "                        heapq.heappush(priority_queue, (new_distance, neighbor))\n",
        "\n",
        "        return distances\n",
        "\n",
        "num_vertices = 5\n",
        "graph = SimpleGraph(num_vertices)\n",
        "graph.add_edge(0, 1, 4)\n",
        "graph.add_edge(0, 2, 1)\n",
        "graph.add_edge(1, 3, 1)\n",
        "graph.add_edge(2, 4, 2)\n",
        "\n",
        "source_vertex = 0\n",
        "print(\"Is {} reachable from {}?\".format(dest, src), graph.is_reachable(src, dest))\n",
        "print(\"Shortest path length from {} to {}: \".format(src, dest), graph.bfs_shortest_path(src, dest))\n",
        "shortest_paths = graph.dijkstra_shortest_paths(source_vertex)\n",
        "print(\"Single Source Shortest Paths from vertex\", source_vertex)\n",
        "for i, distance in enumerate(shortest_paths):\n",
        "    print(\"Distance to vertex\", i, \":\", distance)"
      ],
      "metadata": {
        "colab": {
          "base_uri": "https://localhost:8080/"
        },
        "id": "QXVkSTxviDzK",
        "outputId": "89be3bf3-7b4b-4469-8d01-b479059f5a40"
      },
      "execution_count": 11,
      "outputs": [
        {
          "output_type": "stream",
          "name": "stdout",
          "text": [
            "Is 3 reachable from 0? True\n",
            "Shortest path length from 0 to 3:  2\n",
            "Single Source Shortest Paths from vertex 0\n",
            "Distance to vertex 0 : 0\n",
            "Distance to vertex 1 : 4\n",
            "Distance to vertex 2 : 1\n",
            "Distance to vertex 3 : 5\n",
            "Distance to vertex 4 : 3\n"
          ]
        }
      ]
    },
    {
      "cell_type": "markdown",
      "source": [
        "#Breadth-First Search"
      ],
      "metadata": {
        "id": "ogH77elZnNoQ"
      }
    },
    {
      "cell_type": "code",
      "source": [
        "from collections import deque\n",
        "\n",
        "class SimpleGraph:\n",
        "    def __init__(self, num_vertices):\n",
        "        self.num_vertices = num_vertices\n",
        "        self.adj_list = [[] for _ in range(num_vertices)]\n",
        "\n",
        "    def add_edge(self, src, dest, weight=None):\n",
        "        if dest not in self.adj_list[src]:\n",
        "            self.adj_list[src].append(dest)\n",
        "        if src not in self.adj_list[dest]:\n",
        "            self.adj_list[dest].append(src)\n",
        "\n",
        "    def bfs(self, start_vertex):\n",
        "        visited = [False] * self.num_vertices\n",
        "        queue = deque([start_vertex])\n",
        "        visited[start_vertex] = True\n",
        "\n",
        "        while queue:\n",
        "            current = queue.popleft()\n",
        "            print(current, end=\" \")\n",
        "            for neighbor in self.adj_list[current]:\n",
        "                if not visited[neighbor]:\n",
        "                    visited[neighbor] = True\n",
        "                    queue.append(neighbor)\n",
        "\n",
        "num_vertices = 5\n",
        "graph = SimpleGraph(num_vertices)\n",
        "graph.add_edge(0, 1)\n",
        "graph.add_edge(0, 2)\n",
        "graph.add_edge(1, 3)\n",
        "graph.add_edge(2, 4)\n",
        "\n",
        "print(\"Breadth-First Search:\")\n",
        "graph.bfs(0)"
      ],
      "metadata": {
        "colab": {
          "base_uri": "https://localhost:8080/"
        },
        "id": "noWWouL-nRGd",
        "outputId": "e7dd02b7-d517-4db7-d347-ad1684fd2dd2"
      },
      "execution_count": 12,
      "outputs": [
        {
          "output_type": "stream",
          "name": "stdout",
          "text": [
            "Breadth-First Search:\n",
            "0 1 2 3 4 "
          ]
        }
      ]
    }
  ]
}