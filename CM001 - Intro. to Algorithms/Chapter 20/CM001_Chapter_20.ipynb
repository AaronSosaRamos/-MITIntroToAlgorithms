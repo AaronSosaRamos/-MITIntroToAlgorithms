{
  "nbformat": 4,
  "nbformat_minor": 0,
  "metadata": {
    "colab": {
      "provenance": []
    },
    "kernelspec": {
      "name": "python3",
      "display_name": "Python 3"
    },
    "language_info": {
      "name": "python"
    }
  },
  "cells": [
    {
      "cell_type": "markdown",
      "source": [
        "#Acyclic Algorithms"
      ],
      "metadata": {
        "id": "u8aFXDy2zq2M"
      }
    },
    {
      "cell_type": "markdown",
      "source": [
        "Topological Sorting using Depth-First Search (DFS):"
      ],
      "metadata": {
        "id": "o99Tmr3jzu3q"
      }
    },
    {
      "cell_type": "code",
      "execution_count": 1,
      "metadata": {
        "colab": {
          "base_uri": "https://localhost:8080/"
        },
        "id": "7VPSfaA7yRYz",
        "outputId": "0702e62c-6443-4dbf-9ff8-80372733eb14"
      },
      "outputs": [
        {
          "output_type": "stream",
          "name": "stdout",
          "text": [
            "['A', 'B', 'D', 'F', 'C', 'E']\n"
          ]
        }
      ],
      "source": [
        "def topological_sort(graph):\n",
        "    visited = set()\n",
        "    result = []\n",
        "\n",
        "    def dfs(node):\n",
        "        visited.add(node)\n",
        "        for neighbor in graph.get(node, []):\n",
        "            if neighbor not in visited:\n",
        "                dfs(neighbor)\n",
        "        result.append(node)\n",
        "\n",
        "    for node in graph:\n",
        "        if node not in visited:\n",
        "            dfs(node)\n",
        "\n",
        "    return result[::-1]  # Reversing the result to get the topological order\n",
        "\n",
        "# Example usage:\n",
        "graph = {\n",
        "    'A': ['B', 'C'],\n",
        "    'B': ['C', 'D'],\n",
        "    'C': ['E'],\n",
        "    'D': ['F'],\n",
        "    'E': [],\n",
        "    'F': []\n",
        "}\n",
        "print(topological_sort(graph))\n"
      ]
    },
    {
      "cell_type": "markdown",
      "source": [
        "Shortest Path in a DAG:"
      ],
      "metadata": {
        "id": "oK8MeIo8zxUR"
      }
    },
    {
      "cell_type": "code",
      "source": [
        "from collections import deque\n",
        "\n",
        "def shortest_path_dag(graph, source):\n",
        "    topological_order = topological_sort(graph)\n",
        "    distances = {node: float('inf') for node in graph}\n",
        "    distances[source] = 0\n",
        "\n",
        "    for node in topological_order:\n",
        "        for neighbor, weight in graph.get(node, {}).items():\n",
        "            distances[neighbor] = min(distances[neighbor], distances[node] + weight)\n",
        "\n",
        "    return distances\n",
        "\n",
        "# Example usage:\n",
        "graph = {\n",
        "    'A': {'B': 5, 'C': 3},\n",
        "    'B': {'C': 2, 'D': 6},\n",
        "    'C': {'E': 4},\n",
        "    'D': {'F': 7},\n",
        "    'E': {},\n",
        "    'F': {}\n",
        "}\n",
        "print(shortest_path_dag(graph, 'A'))\n"
      ],
      "metadata": {
        "colab": {
          "base_uri": "https://localhost:8080/"
        },
        "id": "w44gfx5bzx6K",
        "outputId": "b64a9138-f678-4d8e-e2c3-5c806eacb58a"
      },
      "execution_count": 2,
      "outputs": [
        {
          "output_type": "stream",
          "name": "stdout",
          "text": [
            "{'A': 0, 'B': 5, 'C': 3, 'D': 11, 'E': 7, 'F': 18}\n"
          ]
        }
      ]
    },
    {
      "cell_type": "markdown",
      "source": [
        "#Hash Tables"
      ],
      "metadata": {
        "id": "MQdnLrDuz87j"
      }
    },
    {
      "cell_type": "markdown",
      "source": [
        "Hash Function:\n",
        "The hash function takes an input (often a key) and produces a fixed-size string or number, typically of a shorter length than the input. It's used to map keys to indices in the hash table."
      ],
      "metadata": {
        "id": "Vy9Ilot6z-YL"
      }
    },
    {
      "cell_type": "code",
      "source": [
        "def hash_function(key, table_size):\n",
        "    # Example hash function for string keys\n",
        "    hash_value = 0\n",
        "    for char in key:\n",
        "        hash_value = (hash_value * 31 + ord(char)) % table_size\n",
        "    return hash_value\n"
      ],
      "metadata": {
        "id": "iQOhm4VBz-ET"
      },
      "execution_count": 3,
      "outputs": []
    },
    {
      "cell_type": "markdown",
      "source": [
        "Insertion into Hash Table:\n",
        "To insert a key-value pair into a hash table, you first compute the hash value for the key, then store the value in the corresponding index of the table."
      ],
      "metadata": {
        "id": "JCFuMRjK0Bpb"
      }
    },
    {
      "cell_type": "code",
      "source": [
        "def insert(hash_table, key, value):\n",
        "    index = hash_function(key, len(hash_table))\n",
        "    hash_table[index] = value\n",
        "\n",
        "# Example usage:\n",
        "hash_table = [None] * 10  # Initialize a hash table with 10 slots\n",
        "insert(hash_table, \"apple\", 5)\n",
        "insert(hash_table, \"banana\", 7)\n"
      ],
      "metadata": {
        "id": "InLeOzeg0Cen"
      },
      "execution_count": 4,
      "outputs": []
    },
    {
      "cell_type": "markdown",
      "source": [
        "Lookup in Hash Table:\n",
        "To retrieve a value from the hash table, you compute the hash value for the key and look up the corresponding index in the table."
      ],
      "metadata": {
        "id": "uEYZbwNi0D1v"
      }
    },
    {
      "cell_type": "code",
      "source": [
        "def lookup(hash_table, key):\n",
        "    index = hash_function(key, len(hash_table))\n",
        "    return hash_table[index]\n",
        "\n",
        "# Example usage:\n",
        "print(lookup(hash_table, \"apple\"))  # Output: 5\n"
      ],
      "metadata": {
        "colab": {
          "base_uri": "https://localhost:8080/"
        },
        "id": "vwgBnIFN0E4o",
        "outputId": "e0a8d4c7-3ff2-41fe-c4d9-a90612753481"
      },
      "execution_count": 5,
      "outputs": [
        {
          "output_type": "stream",
          "name": "stdout",
          "text": [
            "5\n"
          ]
        }
      ]
    },
    {
      "cell_type": "markdown",
      "source": [
        "Collision Handling (Chaining):\n",
        "If two keys hash to the same index, a collision occurs. Chaining is a common technique to handle collisions by storing a linked list of key-value pairs at each index of the hash table."
      ],
      "metadata": {
        "id": "qUykYUgJ0IUh"
      }
    },
    {
      "cell_type": "code",
      "source": [
        "class HashTable:\n",
        "    def __init__(self, size):\n",
        "        self.size = size\n",
        "        self.table = [[] for _ in range(size)]\n",
        "\n",
        "    def insert(self, key, value):\n",
        "        index = hash_function(key, self.size)\n",
        "        self.table[index].append((key, value))\n",
        "\n",
        "    def lookup(self, key):\n",
        "        index = hash_function(key, self.size)\n",
        "        for k, v in self.table[index]:\n",
        "            if k == key:\n",
        "                return v\n",
        "        return None\n",
        "\n",
        "# Example usage:\n",
        "hash_table = HashTable(10)\n",
        "hash_table.insert(\"apple\", 5)\n",
        "hash_table.insert(\"banana\", 7)\n",
        "print(hash_table.lookup(\"apple\"))  # Output: 5"
      ],
      "metadata": {
        "colab": {
          "base_uri": "https://localhost:8080/"
        },
        "id": "D-aMxVw20HXY",
        "outputId": "d6d9787b-5f38-463b-cdcc-83aa88b7ed1d"
      },
      "execution_count": 6,
      "outputs": [
        {
          "output_type": "stream",
          "name": "stdout",
          "text": [
            "5\n"
          ]
        }
      ]
    }
  ]
}