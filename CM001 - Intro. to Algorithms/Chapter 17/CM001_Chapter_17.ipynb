{
  "nbformat": 4,
  "nbformat_minor": 0,
  "metadata": {
    "colab": {
      "provenance": []
    },
    "kernelspec": {
      "name": "python3",
      "display_name": "Python 3"
    },
    "language_info": {
      "name": "python"
    }
  },
  "cells": [
    {
      "cell_type": "markdown",
      "source": [
        "#Bellman-Ford SSSP in DAG using Dynamic Programming\n"
      ],
      "metadata": {
        "id": "csWpwlp2Osp1"
      }
    },
    {
      "cell_type": "code",
      "execution_count": 1,
      "metadata": {
        "colab": {
          "base_uri": "https://localhost:8080/"
        },
        "id": "19Hf2F2UOrEa",
        "outputId": "ac90dea4-c4da-4545-f5db-89d13e4fb209"
      },
      "outputs": [
        {
          "output_type": "stream",
          "name": "stdout",
          "text": [
            "Shortest distance from 1 to 0 is inf\n",
            "Shortest distance from 1 to 1 is 0\n",
            "Shortest distance from 1 to 2 is 2\n",
            "Shortest distance from 1 to 3 is 6\n",
            "Shortest distance from 1 to 4 is 5\n",
            "Shortest distance from 1 to 5 is 3\n"
          ]
        }
      ],
      "source": [
        "from collections import defaultdict\n",
        "\n",
        "class Graph:\n",
        "    def __init__(self, vertices):\n",
        "        self.V = vertices\n",
        "        self.graph = defaultdict(list)\n",
        "\n",
        "    def add_edge(self, u, v, w):\n",
        "        self.graph[u].append((v, w))\n",
        "\n",
        "    def topological_sort_util(self, v, visited, stack):\n",
        "        visited[v] = True\n",
        "        if v in self.graph:\n",
        "            for node, weight in self.graph[v]:\n",
        "                if not visited[node]:\n",
        "                    self.topological_sort_util(node, visited, stack)\n",
        "        stack.append(v)\n",
        "\n",
        "    def topological_sort(self):\n",
        "        visited = {v: False for v in range(self.V)}\n",
        "        stack = []\n",
        "\n",
        "        for i in range(self.V):\n",
        "            if not visited[i]:\n",
        "                self.topological_sort_util(i, visited, stack)\n",
        "\n",
        "        return stack[::-1]\n",
        "\n",
        "    def shortest_path(self, source):\n",
        "        topological_order = self.topological_sort()\n",
        "        distance = {v: float('inf') for v in range(self.V)}\n",
        "        distance[source] = 0\n",
        "\n",
        "        for u in topological_order:\n",
        "            for v, w in self.graph[u]:\n",
        "                if distance[u] != float('inf') and distance[u] + w < distance[v]:\n",
        "                    distance[v] = distance[u] + w\n",
        "\n",
        "        return distance\n",
        "\n",
        "# Example usage:\n",
        "if __name__ == \"__main__\":\n",
        "    g = Graph(6)\n",
        "    g.add_edge(0, 1, 5)\n",
        "    g.add_edge(0, 2, 3)\n",
        "    g.add_edge(1, 3, 6)\n",
        "    g.add_edge(1, 2, 2)\n",
        "    g.add_edge(2, 4, 4)\n",
        "    g.add_edge(2, 5, 2)\n",
        "    g.add_edge(2, 3, 7)\n",
        "    g.add_edge(3, 4, -1)\n",
        "    g.add_edge(4, 5, -2)\n",
        "\n",
        "    source = 1\n",
        "    shortest_distances = g.shortest_path(source)\n",
        "    for vertex in range(g.V):\n",
        "        print(f\"Shortest distance from {source} to {vertex} is {shortest_distances[vertex]}\")\n"
      ]
    },
    {
      "cell_type": "markdown",
      "source": [
        "# Floyd-Warshall APSP using Dynamic Programming"
      ],
      "metadata": {
        "id": "SZWAK8WkQkCi"
      }
    },
    {
      "cell_type": "code",
      "source": [
        "INF = float('inf')\n",
        "\n",
        "def floyd_warshall(graph):\n",
        "    V = len(graph)\n",
        "    dist = [[0]*V for _ in range(V)]\n",
        "\n",
        "    # Initialize dist matrix with graph weights\n",
        "    for i in range(V):\n",
        "        for j in range(V):\n",
        "            dist[i][j] = graph[i][j]\n",
        "\n",
        "    # Calculate shortest paths\n",
        "    for k in range(V):\n",
        "        for i in range(V):\n",
        "            for j in range(V):\n",
        "                # Update distance if there's a shorter path through vertex k\n",
        "                if dist[i][k] != INF and dist[k][j] != INF and dist[i][k] + dist[k][j] < dist[i][j]:\n",
        "                    dist[i][j] = dist[i][k] + dist[k][j]\n",
        "\n",
        "    return dist\n",
        "\n",
        "# Example usage:\n",
        "if __name__ == \"__main__\":\n",
        "    graph = [\n",
        "        [0, 5, INF, 10],\n",
        "        [INF, 0, 3, INF],\n",
        "        [INF, INF, 0, 1],\n",
        "        [INF, INF, INF, 0]\n",
        "    ]\n",
        "\n",
        "    shortest_paths = floyd_warshall(graph)\n",
        "    print(\"Shortest distances between all pairs:\")\n",
        "    for row in shortest_paths:\n",
        "        print(row)\n"
      ],
      "metadata": {
        "colab": {
          "base_uri": "https://localhost:8080/"
        },
        "id": "K7j4WfttQmNy",
        "outputId": "541e3651-8b7a-4ad6-ab95-23c91df20155"
      },
      "execution_count": 2,
      "outputs": [
        {
          "output_type": "stream",
          "name": "stdout",
          "text": [
            "Shortest distances between all pairs:\n",
            "[0, 5, 8, 9]\n",
            "[inf, 0, 3, 4]\n",
            "[inf, inf, 0, 1]\n",
            "[inf, inf, inf, 0]\n"
          ]
        }
      ]
    },
    {
      "cell_type": "markdown",
      "source": [
        "#Arithmetic parenthesization"
      ],
      "metadata": {
        "id": "4gzOd0b0SVlB"
      }
    },
    {
      "cell_type": "code",
      "source": [
        "def matrix_chain_order(p):\n",
        "    n = len(p) - 1  # Number of matrices\n",
        "    m = [[0] * n for _ in range(n)]  # Minimum number of scalar multiplications\n",
        "    s = [[0] * n for _ in range(n)]  # Splitting index\n",
        "\n",
        "    for l in range(2, n + 1):\n",
        "        for i in range(n - l + 1):\n",
        "            j = i + l - 1\n",
        "            m[i][j] = float('inf')\n",
        "            for k in range(i, j):\n",
        "                cost = m[i][k] + m[k + 1][j] + p[i] * p[k + 1] * p[j + 1]\n",
        "                if cost < m[i][j]:\n",
        "                    m[i][j] = cost\n",
        "                    s[i][j] = k\n",
        "\n",
        "    return m, s\n",
        "\n",
        "def print_optimal_parens(s, i, j):\n",
        "    if i == j:\n",
        "        print(\"A\" + str(i), end=\"\")\n",
        "    else:\n",
        "        print(\"(\", end=\"\")\n",
        "        print_optimal_parens(s, i, s[i][j])\n",
        "        print_optimal_parens(s, s[i][j] + 1, j)\n",
        "        print(\")\", end=\"\")\n",
        "\n",
        "# Example usage:\n",
        "if __name__ == \"__main__\":\n",
        "    # Example matrices dimensions: A1: 10x30, A2: 30x5, A3: 5x60\n",
        "    dimensions = [10, 30, 5, 60]\n",
        "\n",
        "    m, s = matrix_chain_order(dimensions)\n",
        "    print(\"Minimum number of scalar multiplications:\", m[0][-1])\n",
        "    print(\"Optimal parenthesization:\", end=\" \")\n",
        "    print_optimal_parens(s, 0, len(dimensions) - 2)\n"
      ],
      "metadata": {
        "colab": {
          "base_uri": "https://localhost:8080/"
        },
        "id": "egcHlanPSWCZ",
        "outputId": "79c282eb-65da-4afb-d820-77e91451b224"
      },
      "execution_count": 3,
      "outputs": [
        {
          "output_type": "stream",
          "name": "stdout",
          "text": [
            "Minimum number of scalar multiplications: 4500\n",
            "Optimal parenthesization: ((A0A1)A2)"
          ]
        }
      ]
    },
    {
      "cell_type": "markdown",
      "source": [
        "#Piano/guitar fingering problem"
      ],
      "metadata": {
        "id": "FDj0h94cSinQ"
      }
    },
    {
      "cell_type": "code",
      "source": [
        "def piano_fingering(notes):\n",
        "    # Define finger numbers for each note\n",
        "    fingers = [1, 2, 3, 4, 5]\n",
        "\n",
        "    # Define the cost matrix: cost[i][j] represents the cost of transitioning from finger i to finger j\n",
        "    cost = [[0, 1, 1, 1, 1],  # Finger 1 to all other fingers\n",
        "            [1, 0, 1, 1, 1],  # Finger 2 to all other fingers\n",
        "            [1, 1, 0, 1, 1],  # Finger 3 to all other fingers\n",
        "            [1, 1, 1, 0, 1],  # Finger 4 to all other fingers\n",
        "            [1, 1, 1, 1, 0]]  # Finger 5 to all other fingers\n",
        "\n",
        "    # Initialize DP table and fingerings\n",
        "    dp = [[float('inf')] * len(fingers) for _ in range(len(notes))]\n",
        "    fingerings = [[-1] * len(fingers) for _ in range(len(notes))]\n",
        "\n",
        "    # Initialize base case\n",
        "    dp[0] = [0] * len(fingers)\n",
        "\n",
        "    # Dynamic programming: fill the DP table\n",
        "    for i in range(1, len(notes)):\n",
        "        for j in range(len(fingers)):\n",
        "            for k in range(len(fingers)):\n",
        "                if dp[i][j] > dp[i - 1][k] + cost[k][j]:\n",
        "                    dp[i][j] = dp[i - 1][k] + cost[k][j]\n",
        "                    fingerings[i][j] = k\n",
        "\n",
        "    # Backtrack to find optimal fingerings\n",
        "    optimal_fingerings = []\n",
        "    last_finger = dp[-1].index(min(dp[-1]))\n",
        "    optimal_fingerings.append(last_finger)\n",
        "    for i in range(len(notes) - 1, 0, -1):\n",
        "        last_finger = fingerings[i][last_finger]\n",
        "        optimal_fingerings.append(last_finger)\n",
        "\n",
        "    optimal_fingerings.reverse()\n",
        "\n",
        "    return optimal_fingerings\n",
        "\n",
        "# Example usage:\n",
        "if __name__ == \"__main__\":\n",
        "    # Example notes (C major scale)\n",
        "    notes = [\"C\", \"D\", \"E\", \"F\", \"G\", \"A\", \"B\", \"C\"]\n",
        "\n",
        "    fingerings = piano_fingering(notes)\n",
        "    print(\"Optimal fingerings:\", fingerings)\n"
      ],
      "metadata": {
        "colab": {
          "base_uri": "https://localhost:8080/"
        },
        "id": "C7L-rIbXSnTP",
        "outputId": "6547e8e3-e053-40b3-b4ff-c8b2dc7413b3"
      },
      "execution_count": 4,
      "outputs": [
        {
          "output_type": "stream",
          "name": "stdout",
          "text": [
            "Optimal fingerings: [0, 0, 0, 0, 0, 0, 0, 0]\n"
          ]
        }
      ]
    }
  ]
}