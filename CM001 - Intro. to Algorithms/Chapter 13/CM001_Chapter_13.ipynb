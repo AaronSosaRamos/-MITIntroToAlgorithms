{
  "nbformat": 4,
  "nbformat_minor": 0,
  "metadata": {
    "colab": {
      "provenance": []
    },
    "kernelspec": {
      "name": "python3",
      "display_name": "Python 3"
    },
    "language_info": {
      "name": "python"
    }
  },
  "cells": [
    {
      "cell_type": "markdown",
      "source": [
        "#All-Pair Shortest Paths"
      ],
      "metadata": {
        "id": "x9USrBtgTdNK"
      }
    },
    {
      "cell_type": "code",
      "execution_count": 2,
      "metadata": {
        "colab": {
          "base_uri": "https://localhost:8080/"
        },
        "id": "nM9AfhJ7TDTJ",
        "outputId": "a50ab2ef-c060-4516-fa94-12b5b1acfd8f"
      },
      "outputs": [
        {
          "output_type": "stream",
          "name": "stdout",
          "text": [
            "[0, 5, 8, 9]\n",
            "[inf, 0, 3, 4]\n",
            "[inf, inf, 0, 1]\n",
            "[inf, inf, inf, 0]\n"
          ]
        }
      ],
      "source": [
        "INF = float('inf')\n",
        "\n",
        "def floyd_warshall(graph):\n",
        "    num_vertices = len(graph)\n",
        "    dist = [[0] * num_vertices for _ in range(num_vertices)]\n",
        "\n",
        "    for i in range(num_vertices):\n",
        "        for j in range(num_vertices):\n",
        "            dist[i][j] = graph[i][j]\n",
        "\n",
        "    for k in range(num_vertices):\n",
        "        for i in range(num_vertices):\n",
        "            for j in range(num_vertices):\n",
        "                if dist[i][k] + dist[k][j] < dist[i][j]:\n",
        "                    dist[i][j] = dist[i][k] + dist[k][j]\n",
        "\n",
        "    return dist\n",
        "\n",
        "# Example directed graph\n",
        "graph = [\n",
        "    [0, 5, INF, 10],\n",
        "    [INF, 0, 3, INF],\n",
        "    [INF, INF, 0, 1],\n",
        "    [INF, INF, INF, 0]\n",
        "]\n",
        "\n",
        "all_pairs_shortest_paths = floyd_warshall(graph)\n",
        "\n",
        "for row in all_pairs_shortest_paths:\n",
        "    print(row)\n"
      ]
    },
    {
      "cell_type": "code",
      "source": [
        "# Example undirected graph\n",
        "graph = [\n",
        "    [0, 3, INF, 7],\n",
        "    [3, 0, 2, INF],\n",
        "    [INF, 2, 0, 1],\n",
        "    [7, INF, 1, 0]\n",
        "]\n",
        "\n",
        "all_pairs_shortest_paths = floyd_warshall(graph)\n",
        "\n",
        "for row in all_pairs_shortest_paths:\n",
        "    print(row)"
      ],
      "metadata": {
        "colab": {
          "base_uri": "https://localhost:8080/"
        },
        "id": "DP3ugaauYHE1",
        "outputId": "09c25b7b-6665-4a8f-ab8c-c79923bbed9d"
      },
      "execution_count": 3,
      "outputs": [
        {
          "output_type": "stream",
          "name": "stdout",
          "text": [
            "[0, 3, 5, 6]\n",
            "[3, 0, 2, 3]\n",
            "[5, 2, 0, 1]\n",
            "[6, 3, 1, 0]\n"
          ]
        }
      ]
    }
  ]
}