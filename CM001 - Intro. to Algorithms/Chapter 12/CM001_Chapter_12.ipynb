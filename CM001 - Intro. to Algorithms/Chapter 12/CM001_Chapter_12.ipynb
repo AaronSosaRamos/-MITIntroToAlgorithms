{
  "nbformat": 4,
  "nbformat_minor": 0,
  "metadata": {
    "colab": {
      "provenance": []
    },
    "kernelspec": {
      "name": "python3",
      "display_name": "Python 3"
    },
    "language_info": {
      "name": "python"
    }
  },
  "cells": [
    {
      "cell_type": "markdown",
      "source": [
        "#Weighted graph radius"
      ],
      "metadata": {
        "id": "jCmTNUQvO9kR"
      }
    },
    {
      "cell_type": "code",
      "execution_count": 7,
      "metadata": {
        "colab": {
          "base_uri": "https://localhost:8080/"
        },
        "id": "ls0WW8jXOIgI",
        "outputId": "b21d1e1a-4188-49ea-eef7-b5dd0b16f124"
      },
      "outputs": [
        {
          "output_type": "stream",
          "name": "stdout",
          "text": [
            "Radius of the graph: 2\n"
          ]
        }
      ],
      "source": [
        "import heapq\n",
        "from collections import defaultdict\n",
        "\n",
        "def dijkstra(graph, start):\n",
        "    distances = {vertex: float('infinity') for vertex in graph}\n",
        "    distances[start] = 0\n",
        "    pq = [(0, start)]\n",
        "\n",
        "    while pq:\n",
        "        current_distance, current_vertex = heapq.heappop(pq)\n",
        "\n",
        "        if current_distance > distances[current_vertex]:\n",
        "            continue\n",
        "\n",
        "        for neighbor, weight in graph[current_vertex].items():\n",
        "            distance = current_distance + weight\n",
        "\n",
        "            if distance < distances[neighbor]:\n",
        "                distances[neighbor] = distance\n",
        "                heapq.heappush(pq, (distance, neighbor))\n",
        "\n",
        "    return distances\n",
        "\n",
        "def graph_radius(graph):\n",
        "    min_radius = float('infinity')\n",
        "    vertices = list(graph.keys())\n",
        "\n",
        "    for vertex in vertices:\n",
        "        distances = dijkstra(graph, vertex)\n",
        "        max_distance = max(distances.values())\n",
        "        min_radius = min(min_radius, max_distance)\n",
        "\n",
        "    return min_radius\n",
        "\n",
        "# Example usage:\n",
        "# Define a weighted graph as an adjacency list\n",
        "weighted_graph = {\n",
        "    'A': {'B': 2, 'C': 4},\n",
        "    'B': {'A': 2, 'C': 1},\n",
        "    'C': {'A': 4, 'B': 1}\n",
        "}\n",
        "\n",
        "radius = graph_radius(weighted_graph)\n",
        "print(\"Radius of the graph:\", radius)\n"
      ]
    },
    {
      "cell_type": "markdown",
      "source": [
        "#Weighted ratios"
      ],
      "metadata": {
        "id": "YObwibJwRY-Q"
      }
    },
    {
      "cell_type": "code",
      "source": [
        "def calculate_weighted_ratios(graph):\n",
        "    weighted_ratios = {}\n",
        "\n",
        "    for vertex, neighbors in graph.items():\n",
        "        for neighbor, weight in neighbors.items():\n",
        "            weighted_ratios[(vertex, neighbor)] = weight / sum(neighbors.values())\n",
        "\n",
        "    return weighted_ratios\n",
        "\n",
        "# Example usage:\n",
        "# Define a weighted graph as an adjacency list\n",
        "weighted_graph = {\n",
        "    'A': {'B': 2, 'C': 4},\n",
        "    'B': {'A': 2, 'C': 1},\n",
        "    'C': {'A': 4, 'B': 1}\n",
        "}\n",
        "\n",
        "weighted_ratios = calculate_weighted_ratios(weighted_graph)\n",
        "print(\"Weighted Ratios:\")\n",
        "for edge, ratio in weighted_ratios.items():\n",
        "    print(f\"{edge}: {ratio}\")\n"
      ],
      "metadata": {
        "colab": {
          "base_uri": "https://localhost:8080/"
        },
        "id": "d_zq8wDuRcv3",
        "outputId": "083e3e22-ae61-48e3-d758-523854404ab6"
      },
      "execution_count": 8,
      "outputs": [
        {
          "output_type": "stream",
          "name": "stdout",
          "text": [
            "Weighted Ratios:\n",
            "('A', 'B'): 0.3333333333333333\n",
            "('A', 'C'): 0.6666666666666666\n",
            "('B', 'A'): 0.6666666666666666\n",
            "('B', 'C'): 0.3333333333333333\n",
            "('C', 'A'): 0.8\n",
            "('C', 'B'): 0.2\n"
          ]
        }
      ]
    },
    {
      "cell_type": "markdown",
      "source": [
        "#Johnson's Algorithm"
      ],
      "metadata": {
        "id": "LnfZWy9hRn39"
      }
    },
    {
      "cell_type": "code",
      "source": [
        "import heapq\n",
        "\n",
        "def bellman_ford(graph, source):\n",
        "    distances = {vertex: float('infinity') for vertex in graph}\n",
        "    distances[source] = 0\n",
        "    predecessors = {vertex: None for vertex in graph}\n",
        "\n",
        "    for _ in range(len(graph) - 1):\n",
        "        for vertex in graph:\n",
        "            for neighbor, weight in graph[vertex].items():\n",
        "                if distances[vertex] + weight < distances[neighbor]:\n",
        "                    distances[neighbor] = distances[vertex] + weight\n",
        "                    predecessors[neighbor] = vertex\n",
        "\n",
        "    return distances, predecessors\n",
        "\n",
        "def reweight_edges(graph, distances):\n",
        "    reweighted_graph = {vertex: {neighbor: weight + distances[vertex] - distances[neighbor] for neighbor, weight in neighbors.items()} for vertex, neighbors in graph.items()}\n",
        "    return reweighted_graph\n",
        "\n",
        "def dijkstra(graph, start):\n",
        "    distances = {vertex: float('infinity') for vertex in graph}\n",
        "    distances[start] = 0\n",
        "    pq = [(0, start)]\n",
        "\n",
        "    while pq:\n",
        "        current_distance, current_vertex = heapq.heappop(pq)\n",
        "\n",
        "        if current_distance > distances[current_vertex]:\n",
        "            continue\n",
        "\n",
        "        for neighbor, weight in graph[current_vertex].items():\n",
        "            distance = current_distance + weight\n",
        "\n",
        "            if distance < distances[neighbor]:\n",
        "                distances[neighbor] = distance\n",
        "                heapq.heappush(pq, (distance, neighbor))\n",
        "\n",
        "    return distances\n",
        "\n",
        "def johnsons_algorithm(graph):\n",
        "    graph['new_vertex'] = {vertex: 0 for vertex in graph}\n",
        "    distances, predecessors = bellman_ford(graph, 'new_vertex')\n",
        "    del graph['new_vertex']\n",
        "\n",
        "    if any(distances[neighbor] > distances[vertex] + weight for vertex, neighbors in graph.items() for neighbor, weight in neighbors.items()):\n",
        "        raise ValueError(\"Graph contains a negative cycle\")\n",
        "\n",
        "    reweighted_graph = reweight_edges(graph, distances)\n",
        "\n",
        "    shortest_paths = {}\n",
        "    for vertex in graph:\n",
        "        shortest_paths[vertex] = dijkstra(reweighted_graph, vertex)\n",
        "\n",
        "        # Adjust distances back by subtracting the reweighting\n",
        "        shortest_paths[vertex] = {neighbor: distance - distances[vertex] + distances[neighbor] for neighbor, distance in shortest_paths[vertex].items()}\n",
        "\n",
        "    return shortest_paths\n",
        "\n",
        "# Example usage:\n",
        "# Define a weighted graph as an adjacency list\n",
        "weighted_graph = {\n",
        "    'A': {'B': 2, 'C': 4},\n",
        "    'B': {'A': 2, 'C': 1},\n",
        "    'C': {'A': 4, 'B': 1}\n",
        "}\n",
        "\n",
        "shortest_paths = johnsons_algorithm(weighted_graph)\n",
        "print(\"Shortest Paths:\")\n",
        "for vertex, paths in shortest_paths.items():\n",
        "    print(f\"From vertex {vertex}: {paths}\")\n"
      ],
      "metadata": {
        "colab": {
          "base_uri": "https://localhost:8080/"
        },
        "id": "u7n8Py-BRkZt",
        "outputId": "591cdc31-85be-4be3-b3fd-08328d519f80"
      },
      "execution_count": 9,
      "outputs": [
        {
          "output_type": "stream",
          "name": "stdout",
          "text": [
            "Shortest Paths:\n",
            "From vertex A: {'A': 0, 'B': 2, 'C': 3}\n",
            "From vertex B: {'A': 2, 'B': 0, 'C': 1}\n",
            "From vertex C: {'A': 3, 'B': 1, 'C': 0}\n"
          ]
        }
      ]
    },
    {
      "cell_type": "markdown",
      "source": [
        "Source: https://www.geeksforgeeks.org/johnsons-algorithm/"
      ],
      "metadata": {
        "id": "MQZks-CvSYev"
      }
    },
    {
      "cell_type": "code",
      "source": [
        "import sys\n",
        "\n",
        "# Number of vertices in the graph\n",
        "V = 4\n",
        "\n",
        "# A utility function to find the vertex with minimum distance value, from\n",
        "# the set of vertices not yet included in shortest path tree\n",
        "\n",
        "\n",
        "def minDistance(dist, sptSet):\n",
        "\t# Initialize min value\n",
        "\tmin_val = sys.maxsize\n",
        "\tmin_index = 0\n",
        "\n",
        "\tfor v in range(V):\n",
        "\t\tif sptSet[v] == False and dist[v] <= min_val:\n",
        "\t\t\tmin_val = dist[v]\n",
        "\t\t\tmin_index = v\n",
        "\n",
        "\treturn min_index\n",
        "\n",
        "# A utility function to print the constructed distance array\n",
        "\n",
        "\n",
        "def printSolution(dist):\n",
        "\tprint(\"Following matrix shows the shortest distances between every pair of vertices\")\n",
        "\tfor i in range(V):\n",
        "\t\tfor j in range(V):\n",
        "\t\t\tif dist[i][j] == sys.maxsize:\n",
        "\t\t\t\tprint(\"{:>7s}\".format(\"INF\"), end=\"\")\n",
        "\t\t\telse:\n",
        "\t\t\t\tprint(\"{:>7d}\".format(dist[i][j]), end=\"\")\n",
        "\t\tprint()\n",
        "\n",
        "# Solves the all-pairs shortest path problem using Johnson's algorithm\n",
        "\n",
        "\n",
        "def floydWarshall(graph):\n",
        "\tdist = [[0 for x in range(V)] for y in range(V)]\n",
        "\n",
        "\t# Initialize the solution matrix same as input graph matrix. Or\n",
        "\t# we can say the initial values of shortest distances are based\n",
        "\t# on shortest paths considering no intermediate vertex.\n",
        "\tfor i in range(V):\n",
        "\t\tfor j in range(V):\n",
        "\t\t\tdist[i][j] = graph[i][j]\n",
        "\n",
        "\t# Add all vertices one by one to the set of intermediate vertices.\n",
        "\t# Before start of a iteration, we have shortest distances between all\n",
        "\t# pairs of vertices such that the shortest distances consider only the\n",
        "\t# vertices in set {0, 1, 2, .. k-1} as intermediate vertices.\n",
        "\t# After the end of a iteration, vertex no. k is added to the set of\n",
        "\t# intermediate vertices and the set becomes {0, 1, 2, .. k}\n",
        "\tfor k in range(V):\n",
        "\t\t# Pick all vertices as source one by one\n",
        "\t\tfor i in range(V):\n",
        "\t\t\t# Pick all vertices as destination for the\n",
        "\t\t\t# above picked source\n",
        "\t\t\tfor j in range(V):\n",
        "\t\t\t\t# If vertex k is on the shortest path from\n",
        "\t\t\t\t# i to j, then update the value of dist[i][j]\n",
        "\t\t\t\tif dist[i][k] + dist[k][j] < dist[i][j]:\n",
        "\t\t\t\t\tdist[i][j] = dist[i][k] + dist[k][j]\n",
        "\n",
        "\t# Print the shortest distance matrix\n",
        "\tprintSolution(dist)\n",
        "\n",
        "\n",
        "# driver program to test above function\n",
        "if __name__ == \"__main__\":\n",
        "\n",
        "\t''' Let us create the following weighted graph\n",
        "\t\t\t10\n",
        "\t(0)------->(3)\n",
        "\t\t|\t\t /|\\\n",
        "\t5 |\t\t |\n",
        "\t\t|\t\t | 1\n",
        "\t\\|/\t\t |\n",
        "\t(1)------->(2)\n",
        "\t\t\t3\t\t '''\n",
        "\n",
        "\tgraph = [[0, 5, sys.maxsize, 10],\n",
        "\t\t\t[sys.maxsize, 0, 3, sys.maxsize],\n",
        "\t\t\t[sys.maxsize, sys.maxsize, 0, 1],\n",
        "\t\t\t[sys.maxsize, sys.maxsize, sys.maxsize, 0]\n",
        "\t\t]\n",
        "\n",
        "\t# Print the solution\n",
        "\tfloydWarshall(graph)\n"
      ],
      "metadata": {
        "colab": {
          "base_uri": "https://localhost:8080/"
        },
        "id": "zS0G0PjDSUyV",
        "outputId": "7c501cef-acf3-44b4-e71b-3ba9053528de"
      },
      "execution_count": 11,
      "outputs": [
        {
          "output_type": "stream",
          "name": "stdout",
          "text": [
            "Following matrix shows the shortest distances between every pair of vertices\n",
            "      0      5      8      9\n",
            "    INF      0      3      4\n",
            "    INF    INF      0      1\n",
            "    INF    INF    INF      0\n"
          ]
        }
      ]
    },
    {
      "cell_type": "code",
      "source": [
        "graph = [\n",
        "    [0, 2, 4, sys.maxsize],\n",
        "    [2, 0, 1, sys.maxsize],\n",
        "    [4, 1, 0, sys.maxsize],\n",
        "    [sys.maxsize, sys.maxsize, sys.maxsize, 0]\n",
        "]\n",
        "floydWarshall(graph)"
      ],
      "metadata": {
        "colab": {
          "base_uri": "https://localhost:8080/"
        },
        "id": "VuuBbhd-S3W5",
        "outputId": "8f3090d1-5e48-4193-a5d5-7aa2341ee243"
      },
      "execution_count": 12,
      "outputs": [
        {
          "output_type": "stream",
          "name": "stdout",
          "text": [
            "Following matrix shows the shortest distances between every pair of vertices\n",
            "      0      2      3    INF\n",
            "      2      0      1    INF\n",
            "      3      1      0    INF\n",
            "    INF    INF    INF      0\n"
          ]
        }
      ]
    }
  ]
}