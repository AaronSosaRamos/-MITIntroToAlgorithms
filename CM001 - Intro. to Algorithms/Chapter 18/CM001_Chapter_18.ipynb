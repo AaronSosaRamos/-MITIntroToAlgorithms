{
  "nbformat": 4,
  "nbformat_minor": 0,
  "metadata": {
    "colab": {
      "provenance": []
    },
    "kernelspec": {
      "name": "python3",
      "display_name": "Python 3"
    },
    "language_info": {
      "name": "python"
    }
  },
  "cells": [
    {
      "cell_type": "markdown",
      "source": [
        "#Rod Cutting"
      ],
      "metadata": {
        "id": "pQZJAb_If8Ir"
      }
    },
    {
      "cell_type": "code",
      "execution_count": 1,
      "metadata": {
        "colab": {
          "base_uri": "https://localhost:8080/"
        },
        "id": "RVc8V7RPf4ri",
        "outputId": "a14b231e-a5b3-4e88-826c-fc925365c2a4"
      },
      "outputs": [
        {
          "output_type": "stream",
          "name": "stdout",
          "text": [
            "Maximum profit for rod length 4 : 10\n"
          ]
        }
      ],
      "source": [
        "def rod_cutting(lengths, prices, n):\n",
        "    # Create a table to store solutions to subproblems\n",
        "    dp = [0] * (n + 1)\n",
        "\n",
        "    # Build up the table using bottom-up dynamic programming\n",
        "    for i in range(1, n + 1):\n",
        "        max_val = -1\n",
        "        for j in range(i):\n",
        "            max_val = max(max_val, prices[j] + dp[i - j - 1])\n",
        "        dp[i] = max_val\n",
        "\n",
        "    return dp[n]\n",
        "\n",
        "# Example usage:\n",
        "lengths = [1, 2, 3, 4, 5, 6, 7, 8]\n",
        "prices = [1, 5, 8, 9, 10, 17, 17, 20]\n",
        "rod_length = 4\n",
        "max_profit = rod_cutting(lengths, prices, rod_length)\n",
        "print(\"Maximum profit for rod length\", rod_length, \":\", max_profit)\n"
      ]
    },
    {
      "cell_type": "markdown",
      "source": [
        "#Subset sum"
      ],
      "metadata": {
        "id": "MxQcP0-KhR_2"
      }
    },
    {
      "cell_type": "code",
      "source": [
        "def subset_sum(nums, target):\n",
        "    n = len(nums)\n",
        "    # Create a table to store solutions to subproblems\n",
        "    dp = [[False] * (target + 1) for _ in range(n + 1)]\n",
        "\n",
        "    # Base case initialization\n",
        "    for i in range(n + 1):\n",
        "        dp[i][0] = True\n",
        "\n",
        "    # Build up the table using bottom-up dynamic programming\n",
        "    for i in range(1, n + 1):\n",
        "        for j in range(1, target + 1):\n",
        "            if nums[i - 1] <= j:\n",
        "                dp[i][j] = dp[i - 1][j] or dp[i - 1][j - nums[i - 1]]\n",
        "            else:\n",
        "                dp[i][j] = dp[i - 1][j]\n",
        "\n",
        "    return dp[n][target]\n",
        "\n",
        "# Example usage:\n",
        "nums = [2, 3, 7, 8, 10]\n",
        "target = 11\n",
        "result = subset_sum(nums, target)\n",
        "if result:\n",
        "    print(\"Subset with sum\", target, \"exists.\")\n",
        "else:\n",
        "    print(\"No subset with sum\", target, \"exists.\")\n"
      ],
      "metadata": {
        "colab": {
          "base_uri": "https://localhost:8080/"
        },
        "id": "EC9SXu87hJiz",
        "outputId": "2a7f37ed-36c7-4992-cdd8-c39776f80059"
      },
      "execution_count": 2,
      "outputs": [
        {
          "output_type": "stream",
          "name": "stdout",
          "text": [
            "Subset with sum 11 exists.\n"
          ]
        }
      ]
    },
    {
      "cell_type": "markdown",
      "source": [
        "#Pseudopolynomial time example"
      ],
      "metadata": {
        "id": "4NLxuW6ghunq"
      }
    },
    {
      "cell_type": "code",
      "source": [
        "def knapsack(values, weights, capacity):\n",
        "    n = len(values)\n",
        "    dp = [[0] * (capacity + 1) for _ in range(n + 1)]\n",
        "\n",
        "    for i in range(1, n + 1):\n",
        "        for w in range(1, capacity + 1):\n",
        "            if weights[i - 1] <= w:\n",
        "                dp[i][w] = max(values[i - 1] + dp[i - 1][w - weights[i - 1]], dp[i - 1][w])\n",
        "            else:\n",
        "                dp[i][w] = dp[i - 1][w]\n",
        "\n",
        "    return dp[n][capacity]\n",
        "\n",
        "# Example usage:\n",
        "values = [60, 100, 120]\n",
        "weights = [10, 20, 30]\n",
        "capacity = 50\n",
        "max_value = knapsack(values, weights, capacity)\n",
        "print(\"Maximum value that can be obtained:\", max_value)\n"
      ],
      "metadata": {
        "colab": {
          "base_uri": "https://localhost:8080/"
        },
        "id": "1-_O_uCchvqK",
        "outputId": "86151f4a-d327-4efe-ac5b-f628cfe1c33f"
      },
      "execution_count": 3,
      "outputs": [
        {
          "output_type": "stream",
          "name": "stdout",
          "text": [
            "Maximum value that can be obtained: 220\n"
          ]
        }
      ]
    }
  ]
}