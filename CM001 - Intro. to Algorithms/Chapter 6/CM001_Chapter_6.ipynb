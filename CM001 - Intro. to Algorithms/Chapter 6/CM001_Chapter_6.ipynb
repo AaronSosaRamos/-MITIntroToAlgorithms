{
  "nbformat": 4,
  "nbformat_minor": 0,
  "metadata": {
    "colab": {
      "provenance": []
    },
    "kernelspec": {
      "name": "python3",
      "display_name": "Python 3"
    },
    "language_info": {
      "name": "python"
    }
  },
  "cells": [
    {
      "cell_type": "markdown",
      "source": [
        "# AVL Tree"
      ],
      "metadata": {
        "id": "yFQTKIMhtuBj"
      }
    },
    {
      "cell_type": "code",
      "source": [
        "class AVLNode:\n",
        "    def __init__(self, key):\n",
        "        self.key = key\n",
        "        self.left = None\n",
        "        self.right = None\n",
        "        self.height = 1\n",
        "\n",
        "\n",
        "class AVLTree:\n",
        "    def __init__(self):\n",
        "        self.root = None\n",
        "\n",
        "    def height(self, node):\n",
        "        if not node:\n",
        "            return 0\n",
        "        return node.height\n",
        "\n",
        "    def balance(self, node):\n",
        "        if not node:\n",
        "            return 0\n",
        "        return self.height(node.left) - self.height(node.right)\n",
        "\n",
        "    def right_rotate(self, y):\n",
        "        x = y.left\n",
        "        T2 = x.right\n",
        "\n",
        "        x.right = y\n",
        "        y.left = T2\n",
        "\n",
        "        y.height = 1 + max(self.height(y.left), self.height(y.right))\n",
        "        x.height = 1 + max(self.height(x.left), self.height(x.right))\n",
        "\n",
        "        return x\n",
        "\n",
        "    def left_rotate(self, x):\n",
        "        y = x.right\n",
        "        T2 = y.left\n",
        "\n",
        "        y.left = x\n",
        "        x.right = T2\n",
        "\n",
        "        x.height = 1 + max(self.height(x.left), self.height(x.right))\n",
        "        y.height = 1 + max(self.height(y.left), self.height(y.right))\n",
        "\n",
        "        return y\n",
        "\n",
        "    def insert(self, node, key):\n",
        "        if not node:\n",
        "            return AVLNode(key)\n",
        "\n",
        "        if key < node.key:\n",
        "            node.left = self.insert(node.left, key)\n",
        "        else:\n",
        "            node.right = self.insert(node.right, key)\n",
        "\n",
        "        node.height = 1 + max(self.height(node.left), self.height(node.right))\n",
        "\n",
        "        balance = self.balance(node)\n",
        "\n",
        "        if balance > 1 and key < node.left.key:\n",
        "            return self.right_rotate(node)\n",
        "\n",
        "        if balance < -1 and key > node.right.key:\n",
        "            return self.left_rotate(node)\n",
        "\n",
        "        if balance > 1 and key > node.left.key:\n",
        "            node.left = self.left_rotate(node.left)\n",
        "            return self.right_rotate(node)\n",
        "\n",
        "        if balance < -1 and key < node.right.key:\n",
        "            node.right = self.right_rotate(node.right)\n",
        "            return self.left_rotate(node)\n",
        "\n",
        "        return node\n",
        "\n",
        "    def insert_key(self, key):\n",
        "        self.root = self.insert(self.root, key)\n",
        "\n",
        "    def preorder_traversal(self, node):\n",
        "        if node:\n",
        "            print(\"{0} \".format(node.key), end=\"\")\n",
        "            self.preorder_traversal(node.left)\n",
        "            self.preorder_traversal(node.right)\n",
        "\n",
        "    def preorder(self):\n",
        "        self.preorder_traversal(self.root)\n",
        "\n",
        "\n",
        "avl_tree = AVLTree()\n",
        "avl_tree.insert_key(10)\n",
        "avl_tree.insert_key(20)\n",
        "avl_tree.insert_key(30)\n",
        "avl_tree.insert_key(40)\n",
        "avl_tree.insert_key(50)\n",
        "avl_tree.insert_key(25)\n",
        "\n",
        "print(\"Preorder Traversal of constructed AVL tree is\")\n",
        "avl_tree.preorder()"
      ],
      "metadata": {
        "colab": {
          "base_uri": "https://localhost:8080/"
        },
        "id": "GP-7kGbXtumq",
        "outputId": "ca8f252a-1d44-4633-e7aa-ddc73089eca6"
      },
      "execution_count": 1,
      "outputs": [
        {
          "output_type": "stream",
          "name": "stdout",
          "text": [
            "Preorder Traversal of constructed AVL tree is\n",
            "30 20 10 25 40 50 "
          ]
        }
      ]
    },
    {
      "cell_type": "markdown",
      "source": [
        "# Min Heap Priority Queue"
      ],
      "metadata": {
        "id": "qFzmRmIkuILW"
      }
    },
    {
      "cell_type": "code",
      "source": [
        "class MinHeapPriorityQueue:\n",
        "    def __init__(self):\n",
        "        self.heap = []\n",
        "\n",
        "    def build(self, arr):\n",
        "        n = len(arr)\n",
        "        self.heap = arr\n",
        "        for i in range(n // 2 - 1, -1, -1):\n",
        "            self.heapify_down(i)\n",
        "\n",
        "    def insert(self, x):\n",
        "        self.heap.append(x)\n",
        "        self.heapify_up(len(self.heap) - 1)\n",
        "\n",
        "    def delete_min(self):\n",
        "        if not self.heap:\n",
        "            return None\n",
        "        if len(self.heap) == 1:\n",
        "            return self.heap.pop()\n",
        "\n",
        "        min_val = self.heap[0]\n",
        "        self.heap[0] = self.heap.pop()\n",
        "        self.heapify_down(0)\n",
        "        return min_val\n",
        "\n",
        "    def find_min(self):\n",
        "        return self.heap[0] if self.heap else None\n",
        "\n",
        "    def sort(self):\n",
        "        sorted_arr = []\n",
        "        while self.heap:\n",
        "            sorted_arr.append(self.delete_min())\n",
        "        return sorted_arr\n",
        "\n",
        "    def heapify_up(self, index):\n",
        "        parent = (index - 1) // 2\n",
        "        while parent >= 0 and self.heap[parent] > self.heap[index]:\n",
        "            self.heap[parent], self.heap[index] = self.heap[index], self.heap[parent]\n",
        "            index = parent\n",
        "            parent = (index - 1) // 2\n",
        "\n",
        "    def heapify_down(self, index):\n",
        "        n = len(self.heap)\n",
        "        left_child = 2 * index + 1\n",
        "        right_child = 2 * index + 2\n",
        "        smallest = index\n",
        "\n",
        "        if left_child < n and self.heap[left_child] < self.heap[smallest]:\n",
        "            smallest = left_child\n",
        "\n",
        "        if right_child < n and self.heap[right_child] < self.heap[smallest]:\n",
        "            smallest = right_child\n",
        "\n",
        "        if smallest != index:\n",
        "            self.heap[index], self.heap[smallest] = self.heap[smallest], self.heap[index]\n",
        "            self.heapify_down(smallest)\n",
        "\n",
        "\n",
        "pq = MinHeapPriorityQueue()\n",
        "pq.build([4, 8, 2, 5, 1, 6, 9, 3])\n",
        "print(\"Min Element:\", pq.find_min())\n",
        "print(\"Sorted Array:\", pq.sort())"
      ],
      "metadata": {
        "colab": {
          "base_uri": "https://localhost:8080/"
        },
        "id": "V2pmgI2-uJwZ",
        "outputId": "ce870829-1c14-4c93-d1b3-d6efdd04eabd"
      },
      "execution_count": 3,
      "outputs": [
        {
          "output_type": "stream",
          "name": "stdout",
          "text": [
            "Min Element: 1\n",
            "Sorted Array: [1, 2, 3, 4, 5, 6, 8, 9]\n"
          ]
        }
      ]
    },
    {
      "cell_type": "markdown",
      "source": [
        "# Max Heap Priority Queue"
      ],
      "metadata": {
        "id": "YdsUglO0l6NO"
      }
    },
    {
      "cell_type": "code",
      "execution_count": 2,
      "metadata": {
        "colab": {
          "base_uri": "https://localhost:8080/"
        },
        "id": "4YJTMncil4Gb",
        "outputId": "432bc947-994b-407f-e830-9b77d9ae3270"
      },
      "outputs": [
        {
          "output_type": "stream",
          "name": "stdout",
          "text": [
            "Max Element: 9\n",
            "Sorted Array: [9, 8, 6, 5, 4, 3, 2, 1]\n"
          ]
        }
      ],
      "source": [
        "class MaxHeapPriorityQueue:\n",
        "    def __init__(self):\n",
        "        self.heap = []\n",
        "\n",
        "    def build(self, arr):\n",
        "        n = len(arr)\n",
        "        self.heap = arr\n",
        "        for i in range(n // 2 - 1, -1, -1):\n",
        "            self.heapify_down(i)\n",
        "\n",
        "    def insert(self, x):\n",
        "        self.heap.append(x)\n",
        "        self.heapify_up(len(self.heap) - 1)\n",
        "\n",
        "    def delete_max(self):\n",
        "        if not self.heap:\n",
        "            return None\n",
        "        if len(self.heap) == 1:\n",
        "            return self.heap.pop()\n",
        "\n",
        "        max_val = self.heap[0]\n",
        "        self.heap[0] = self.heap.pop()\n",
        "        self.heapify_down(0)\n",
        "        return max_val\n",
        "\n",
        "    def find_max(self):\n",
        "        return self.heap[0] if self.heap else None\n",
        "\n",
        "    def sort(self):\n",
        "        sorted_arr = []\n",
        "        while self.heap:\n",
        "            sorted_arr.append(self.delete_max())\n",
        "        return sorted_arr\n",
        "\n",
        "    def heapify_up(self, index):\n",
        "        parent = (index - 1) // 2\n",
        "        while parent >= 0 and self.heap[parent] < self.heap[index]:\n",
        "            self.heap[parent], self.heap[index] = self.heap[index], self.heap[parent]\n",
        "            index = parent\n",
        "            parent = (index - 1) // 2\n",
        "\n",
        "    def heapify_down(self, index):\n",
        "        n = len(self.heap)\n",
        "        left_child = 2 * index + 1\n",
        "        right_child = 2 * index + 2\n",
        "        largest = index\n",
        "\n",
        "        if left_child < n and self.heap[left_child] > self.heap[largest]:\n",
        "            largest = left_child\n",
        "\n",
        "        if right_child < n and self.heap[right_child] > self.heap[largest]:\n",
        "            largest = right_child\n",
        "\n",
        "        if largest != index:\n",
        "            self.heap[index], self.heap[largest] = self.heap[largest], self.heap[index]\n",
        "            self.heapify_down(largest)\n",
        "\n",
        "\n",
        "pq = MaxHeapPriorityQueue()\n",
        "pq.build([4, 8, 2, 5, 1, 6, 9, 3])\n",
        "print(\"Max Element:\", pq.find_max())\n",
        "print(\"Sorted Array:\", pq.sort())"
      ]
    },
    {
      "cell_type": "markdown",
      "source": [
        "# Min Heap Binary Tree"
      ],
      "metadata": {
        "id": "bEnwGW3_uPyh"
      }
    },
    {
      "cell_type": "code",
      "source": [
        "class MinHeapBinaryTree:\n",
        "    def __init__(self):\n",
        "        self.heap = []\n",
        "\n",
        "    def insert(self, value):\n",
        "        self.heap.append(value)\n",
        "        self.heapify_up(len(self.heap) - 1)\n",
        "\n",
        "    def delete_min(self):\n",
        "        if len(self.heap) == 0:\n",
        "            return None\n",
        "        if len(self.heap) == 1:\n",
        "            return self.heap.pop()\n",
        "\n",
        "        min_val = self.heap[0]\n",
        "        self.heap[0] = self.heap.pop()\n",
        "        self.heapify_down(0)\n",
        "        return min_val\n",
        "\n",
        "    def heapify_up(self, index):\n",
        "        while index > 0:\n",
        "            parent_index = (index - 1) // 2\n",
        "            if self.heap[parent_index] > self.heap[index]:\n",
        "                self.heap[parent_index], self.heap[index] = self.heap[index], self.heap[parent_index]\n",
        "                index = parent_index\n",
        "            else:\n",
        "                break\n",
        "\n",
        "    def heapify_down(self, index):\n",
        "        n = len(self.heap)\n",
        "        left_child_index = 2 * index + 1\n",
        "        right_child_index = 2 * index + 2\n",
        "\n",
        "        smallest = index\n",
        "        if left_child_index < n and self.heap[left_child_index] < self.heap[smallest]:\n",
        "            smallest = left_child_index\n",
        "        if right_child_index < n and self.heap[right_child_index] < self.heap[smallest]:\n",
        "            smallest = right_child_index\n",
        "\n",
        "        if smallest != index:\n",
        "            self.heap[smallest], self.heap[index] = self.heap[index], self.heap[smallest]\n",
        "            self.heapify_down(smallest)\n",
        "\n",
        "    def display(self):\n",
        "        print(\"Min Heap Binary Tree:\")\n",
        "        self._display(0, 0)\n",
        "\n",
        "    def _display(self, index, level):\n",
        "        if index < len(self.heap):\n",
        "            self._display(2 * index + 2, level + 1)\n",
        "            print(\"   \" * level + str(self.heap[index]))\n",
        "            self._display(2 * index + 1, level + 1)\n",
        "\n",
        "\n",
        "min_heap_tree = MinHeapBinaryTree()\n",
        "min_heap_tree.insert(10)\n",
        "min_heap_tree.insert(20)\n",
        "min_heap_tree.insert(15)\n",
        "min_heap_tree.insert(30)\n",
        "min_heap_tree.insert(40)\n",
        "min_heap_tree.insert(25)\n",
        "\n",
        "min_heap_tree.display()\n",
        "\n",
        "print(\"Deleting min element:\", min_heap_tree.delete_min())\n",
        "min_heap_tree.display()"
      ],
      "metadata": {
        "colab": {
          "base_uri": "https://localhost:8080/"
        },
        "id": "EmROa7TMuVkc",
        "outputId": "7e311c75-e35f-4915-e733-02f08c43b09f"
      },
      "execution_count": 4,
      "outputs": [
        {
          "output_type": "stream",
          "name": "stdout",
          "text": [
            "Min Heap Binary Tree:\n",
            "   15\n",
            "      25\n",
            "10\n",
            "      40\n",
            "   20\n",
            "      30\n",
            "Deleting min element: 10\n",
            "Min Heap Binary Tree:\n",
            "   25\n",
            "15\n",
            "      40\n",
            "   20\n",
            "      30\n"
          ]
        }
      ]
    },
    {
      "cell_type": "markdown",
      "source": [
        "# Max Heap Binary Tree"
      ],
      "metadata": {
        "id": "ygDxCCTQub59"
      }
    },
    {
      "cell_type": "code",
      "source": [
        "class MaxHeapBinaryTree:\n",
        "    def __init__(self):\n",
        "        self.heap = []\n",
        "\n",
        "    def insert(self, value):\n",
        "        self.heap.append(value)\n",
        "        self.heapify_up(len(self.heap) - 1)\n",
        "\n",
        "    def delete_max(self):\n",
        "        if len(self.heap) == 0:\n",
        "            return None\n",
        "        if len(self.heap) == 1:\n",
        "            return self.heap.pop()\n",
        "\n",
        "        max_val = self.heap[0]\n",
        "        self.heap[0] = self.heap.pop()\n",
        "        self.heapify_down(0)\n",
        "        return max_val\n",
        "\n",
        "    def heapify_up(self, index):\n",
        "        while index > 0:\n",
        "            parent_index = (index - 1) // 2\n",
        "            if self.heap[parent_index] < self.heap[index]:\n",
        "                self.heap[parent_index], self.heap[index] = self.heap[index], self.heap[parent_index]\n",
        "                index = parent_index\n",
        "            else:\n",
        "                break\n",
        "\n",
        "    def heapify_down(self, index):\n",
        "        n = len(self.heap)\n",
        "        left_child_index = 2 * index + 1\n",
        "        right_child_index = 2 * index + 2\n",
        "\n",
        "        largest = index\n",
        "        if left_child_index < n and self.heap[left_child_index] > self.heap[largest]:\n",
        "            largest = left_child_index\n",
        "        if right_child_index < n and self.heap[right_child_index] > self.heap[largest]:\n",
        "            largest = right_child_index\n",
        "\n",
        "        if largest != index:\n",
        "            self.heap[largest], self.heap[index] = self.heap[index], self.heap[largest]\n",
        "            self.heapify_down(largest)\n",
        "\n",
        "    def display(self):\n",
        "        print(\"Max Heap Binary Tree:\")\n",
        "        self._display(0, 0)\n",
        "\n",
        "    def _display(self, index, level):\n",
        "        if index < len(self.heap):\n",
        "            self._display(2 * index + 2, level + 1)\n",
        "            print(\"   \" * level + str(self.heap[index]))\n",
        "            self._display(2 * index + 1, level + 1)\n",
        "\n",
        "\n",
        "max_heap_tree = MaxHeapBinaryTree()\n",
        "max_heap_tree.insert(10)\n",
        "max_heap_tree.insert(20)\n",
        "max_heap_tree.insert(15)\n",
        "max_heap_tree.insert(30)\n",
        "max_heap_tree.insert(40)\n",
        "max_heap_tree.insert(25)\n",
        "\n",
        "max_heap_tree.display()\n",
        "\n",
        "print(\"Deleting max element:\", max_heap_tree.delete_max())\n",
        "max_heap_tree.display()"
      ],
      "metadata": {
        "colab": {
          "base_uri": "https://localhost:8080/"
        },
        "id": "4DDrqO85udbF",
        "outputId": "a655a061-ae2e-4a26-8d0e-34a1d8831054"
      },
      "execution_count": 5,
      "outputs": [
        {
          "output_type": "stream",
          "name": "stdout",
          "text": [
            "Max Heap Binary Tree:\n",
            "   25\n",
            "      15\n",
            "40\n",
            "      20\n",
            "   30\n",
            "      10\n",
            "Deleting max element: 40\n",
            "Max Heap Binary Tree:\n",
            "   25\n",
            "30\n",
            "      15\n",
            "   20\n",
            "      10\n"
          ]
        }
      ]
    }
  ]
}