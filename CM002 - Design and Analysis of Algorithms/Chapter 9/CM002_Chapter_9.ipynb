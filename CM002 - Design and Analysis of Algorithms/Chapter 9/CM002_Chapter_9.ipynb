{
  "nbformat": 4,
  "nbformat_minor": 0,
  "metadata": {
    "colab": {
      "provenance": []
    },
    "kernelspec": {
      "name": "python3",
      "display_name": "Python 3"
    },
    "language_info": {
      "name": "python"
    }
  },
  "cells": [
    {
      "cell_type": "markdown",
      "source": [
        "#Hashing"
      ],
      "metadata": {
        "id": "oAiOHRIICcK3"
      }
    },
    {
      "cell_type": "markdown",
      "source": [
        "#Universal Hashing"
      ],
      "metadata": {
        "id": "9_QjGQFxCYJf"
      }
    },
    {
      "cell_type": "code",
      "execution_count": 4,
      "metadata": {
        "colab": {
          "base_uri": "https://localhost:8080/"
        },
        "id": "908pasueCUtn",
        "outputId": "2e2c1157-12c4-43f9-cd7c-0d1bcd3ef76d"
      },
      "outputs": [
        {
          "output_type": "stream",
          "name": "stdout",
          "text": [
            "The value associated with key 10 is banana\n",
            "Hash table contents:\n",
            "Bucket 0: []\n",
            "Bucket 1: []\n",
            "Bucket 2: []\n",
            "Bucket 3: []\n",
            "Bucket 4: []\n",
            "Bucket 5: []\n",
            "Bucket 6: []\n",
            "Bucket 7: [(15, 'orange')]\n",
            "Bucket 8: [(10, 'banana')]\n",
            "Bucket 9: [(5, 'apple')]\n"
          ]
        }
      ],
      "source": [
        "import random\n",
        "\n",
        "class UniversalHashing:\n",
        "    def __init__(self, num_buckets):\n",
        "        self.num_buckets = num_buckets\n",
        "        self.p = self._find_prime_larger_than(num_buckets)\n",
        "        self.a = random.randint(1, self.p - 1)\n",
        "        self.b = random.randint(0, self.p - 1)\n",
        "\n",
        "    def _find_prime_larger_than(self, n):\n",
        "        # Helper function to find a prime larger than n\n",
        "        def is_prime(x):\n",
        "            if x <= 1:\n",
        "                return False\n",
        "            elif x <= 3:\n",
        "                return True\n",
        "            elif x % 2 == 0 or x % 3 == 0:\n",
        "                return False\n",
        "            i = 5\n",
        "            while i * i <= x:\n",
        "                if x % i == 0 or x % (i + 2) == 0:\n",
        "                    return False\n",
        "                i += 6\n",
        "            return True\n",
        "\n",
        "        prime_candidate = n + 1\n",
        "        while True:\n",
        "            if is_prime(prime_candidate):\n",
        "                return prime_candidate\n",
        "            prime_candidate += 1\n",
        "\n",
        "    def hash(self, key):\n",
        "        return ((self.a * key + self.b) % self.p) % self.num_buckets\n",
        "\n",
        "# Example usage:\n",
        "num_buckets = 10\n",
        "universal_hash = UniversalHashing(num_buckets)\n",
        "\n",
        "# Create a dictionary using universal hashing\n",
        "hash_table = [[] for _ in range(num_buckets)]\n",
        "\n",
        "# Insert some key-value pairs\n",
        "key_value_pairs = [(5, 'apple'), (10, 'banana'), (15, 'orange')]\n",
        "for key, value in key_value_pairs:\n",
        "    bucket_index = universal_hash.hash(key)\n",
        "    hash_table[bucket_index].append((key, value))\n",
        "\n",
        "# Retrieve a value\n",
        "key_to_lookup = 10\n",
        "bucket_index = universal_hash.hash(key_to_lookup)\n",
        "for k, v in hash_table[bucket_index]:\n",
        "    if k == key_to_lookup:\n",
        "        print(f\"The value associated with key {k} is {v}\")\n",
        "        break\n",
        "else:\n",
        "    print(\"Key not found\")\n",
        "\n",
        "# Print the hash table\n",
        "print(\"Hash table contents:\")\n",
        "for i, bucket in enumerate(hash_table):\n",
        "    print(f\"Bucket {i}: {bucket}\")\n"
      ]
    },
    {
      "cell_type": "markdown",
      "source": [
        "#Dot-product hash family:"
      ],
      "metadata": {
        "id": "8Z_0ukGkDfBW"
      }
    },
    {
      "cell_type": "code",
      "source": [
        "import random\n",
        "\n",
        "class DotProductHashing:\n",
        "    def __init__(self, num_buckets, dimension):\n",
        "        self.num_buckets = num_buckets\n",
        "        self.dimension = dimension\n",
        "        self.vector = [random.randint(1, 100) for _ in range(dimension)]\n",
        "\n",
        "    def hash(self, key):\n",
        "        key_vector = self._key_to_vector(key)\n",
        "        dot_product = sum(x * y for x, y in zip(key_vector, self.vector))\n",
        "        return dot_product % self.num_buckets\n",
        "\n",
        "    def _key_to_vector(self, key):\n",
        "        # Simple hash to vector conversion\n",
        "        return [(ord(c) if isinstance(key, str) else key) % 100 for c in str(key)]\n",
        "\n",
        "# Example usage:\n",
        "num_buckets = 10\n",
        "dimension = 5\n",
        "dot_product_hash = DotProductHashing(num_buckets, dimension)\n",
        "\n",
        "# Create a dictionary using dot-product hashing\n",
        "hash_table = [[] for _ in range(num_buckets)]\n",
        "\n",
        "# Insert some key-value pairs\n",
        "key_value_pairs = [(5, 'apple'), (10, 'banana'), (15, 'orange')]\n",
        "for key, value in key_value_pairs:\n",
        "    bucket_index = dot_product_hash.hash(key)\n",
        "    hash_table[bucket_index].append((key, value))\n",
        "\n",
        "# Retrieve a value\n",
        "key_to_lookup = 10\n",
        "bucket_index = dot_product_hash.hash(key_to_lookup)\n",
        "for k, v in hash_table[bucket_index]:\n",
        "    if k == key_to_lookup:\n",
        "        print(f\"The value associated with key {k} is {v}\")\n",
        "        break\n",
        "else:\n",
        "    print(\"Key not found\")\n",
        "\n",
        "# Print the hash table\n",
        "print(\"Hash table contents:\")\n",
        "for i, bucket in enumerate(hash_table):\n",
        "    print(f\"Bucket {i}: {bucket}\")\n"
      ],
      "metadata": {
        "colab": {
          "base_uri": "https://localhost:8080/"
        },
        "id": "tF6CpSqKDSfI",
        "outputId": "33aa8ba7-274d-4508-9949-651279b60bbc"
      },
      "execution_count": 5,
      "outputs": [
        {
          "output_type": "stream",
          "name": "stdout",
          "text": [
            "The value associated with key 10 is banana\n",
            "Hash table contents:\n",
            "Bucket 0: [(10, 'banana'), (15, 'orange')]\n",
            "Bucket 1: []\n",
            "Bucket 2: []\n",
            "Bucket 3: []\n",
            "Bucket 4: []\n",
            "Bucket 5: [(5, 'apple')]\n",
            "Bucket 6: []\n",
            "Bucket 7: []\n",
            "Bucket 8: []\n",
            "Bucket 9: []\n"
          ]
        }
      ]
    },
    {
      "cell_type": "markdown",
      "source": [
        "#Perfect Hashing"
      ],
      "metadata": {
        "id": "yl-9z4ELGG5N"
      }
    },
    {
      "cell_type": "code",
      "source": [
        "class PerfectHashing:\n",
        "    def __init__(self, keys):\n",
        "        self.keys = keys\n",
        "        self.size = len(keys)\n",
        "        self.first_level_size = self.size * self.size\n",
        "        self.first_level_table = [None] * self.first_level_size\n",
        "        self.second_level_tables = [None] * self.first_level_size\n",
        "\n",
        "        self._build_perfect_hashing()\n",
        "\n",
        "    def _hash_function(self, key):\n",
        "        # Simple hash function for demonstration purposes\n",
        "        return hash(key) % self.first_level_size\n",
        "\n",
        "    def _build_perfect_hashing(self):\n",
        "        # Build first level hash table\n",
        "        for key in self.keys:\n",
        "            hash_value = self._hash_function(key)\n",
        "            if self.first_level_table[hash_value] is None:\n",
        "                self.first_level_table[hash_value] = [key]\n",
        "            else:\n",
        "                self.first_level_table[hash_value].append(key)\n",
        "\n",
        "        # Build second level hash tables\n",
        "        for i in range(self.first_level_size):\n",
        "            if self.first_level_table[i] is not None:\n",
        "                self.second_level_tables[i] = {}\n",
        "                keys_in_bucket = self.first_level_table[i]\n",
        "                for j, key in enumerate(keys_in_bucket):\n",
        "                    self.second_level_tables[i][key] = j\n",
        "\n",
        "    def hash(self, key):\n",
        "        first_level_hash = self._hash_function(key)\n",
        "        if self.first_level_table[first_level_hash] is None:\n",
        "            return None  # Key not found\n",
        "        else:\n",
        "            second_level_hash = self.second_level_tables[first_level_hash][key]\n",
        "            return first_level_hash * len(self.first_level_table[first_level_hash]) + second_level_hash\n",
        "\n",
        "# Example usage:\n",
        "keys = [5, 10, 15, 20, 25]\n",
        "perfect_hashing = PerfectHashing(keys)\n",
        "\n",
        "# Perform some hash lookups\n",
        "key_to_lookup = 15\n",
        "hash_value = perfect_hashing.hash(key_to_lookup)\n",
        "if hash_value is not None:\n",
        "    print(f\"The hash value for key {key_to_lookup} is {hash_value}\")\n",
        "else:\n",
        "    print(\"Key not found\")"
      ],
      "metadata": {
        "colab": {
          "base_uri": "https://localhost:8080/"
        },
        "id": "OwsWbCqhGHxk",
        "outputId": "66a0459e-b51a-4a88-ed1e-09dc5622f7d9"
      },
      "execution_count": 6,
      "outputs": [
        {
          "output_type": "stream",
          "name": "stdout",
          "text": [
            "The hash value for key 15 is 15\n"
          ]
        }
      ]
    }
  ]
}