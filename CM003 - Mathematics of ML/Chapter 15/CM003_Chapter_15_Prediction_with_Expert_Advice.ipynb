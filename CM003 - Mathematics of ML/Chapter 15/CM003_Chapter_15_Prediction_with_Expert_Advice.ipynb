{
  "nbformat": 4,
  "nbformat_minor": 0,
  "metadata": {
    "colab": {
      "provenance": []
    },
    "kernelspec": {
      "name": "python3",
      "display_name": "Python 3"
    },
    "language_info": {
      "name": "python"
    }
  },
  "cells": [
    {
      "cell_type": "markdown",
      "source": [
        "#Prediction with Expert Advice"
      ],
      "metadata": {
        "id": "xFVOmCBeCsYV"
      }
    },
    {
      "cell_type": "markdown",
      "source": [
        "#Online Learning\n"
      ],
      "metadata": {
        "id": "rxXoSKsFC57v"
      }
    },
    {
      "cell_type": "code",
      "execution_count": null,
      "metadata": {
        "colab": {
          "base_uri": "https://localhost:8080/"
        },
        "id": "2DGyeBtjCnVv",
        "outputId": "7aa875ac-55ff-434c-f680-82e1ea75e808"
      },
      "outputs": [
        {
          "output_type": "stream",
          "name": "stdout",
          "text": [
            "Batch 10/50, Validation Accuracy: 0.5700\n",
            "Batch 20/50, Validation Accuracy: 0.5100\n",
            "Batch 30/50, Validation Accuracy: 0.4400\n",
            "Batch 40/50, Validation Accuracy: 0.5600\n",
            "Batch 50/50, Validation Accuracy: 0.5000\n",
            "Online learning process completed.\n"
          ]
        }
      ],
      "source": [
        "import numpy as np\n",
        "from sklearn.linear_model import SGDClassifier\n",
        "\n",
        "# Define online learning parameters\n",
        "num_features = 20\n",
        "batch_size = 100\n",
        "num_batches = 50  # Number of batches to simulate\n",
        "evaluation_interval = 10  # Evaluate model performance every 'evaluation_interval' batches\n",
        "\n",
        "# Initialize an SGDClassifier for binary classification\n",
        "model = SGDClassifier(loss='log_loss', max_iter=1000, tol=1e-3)\n",
        "\n",
        "# Simulate streaming data generator for a fixed number of batches\n",
        "def generate_data_batches(num_batches, batch_size):\n",
        "    for _ in range(num_batches):\n",
        "        X_batch = np.random.rand(batch_size, num_features)\n",
        "        y_batch = np.random.randint(0, 2, size=batch_size)  # Binary labels\n",
        "        yield X_batch, y_batch\n",
        "\n",
        "# Online learning loop\n",
        "data_batches = generate_data_batches(num_batches, batch_size)\n",
        "\n",
        "for i, (X_batch, y_batch) in enumerate(data_batches, 1):\n",
        "    # Perform online learning on the current batch\n",
        "    model.partial_fit(X_batch, y_batch, classes=np.unique(y_batch))\n",
        "\n",
        "    # Evaluate model performance periodically\n",
        "    if i % evaluation_interval == 0:\n",
        "        # Simulate a validation set for evaluation\n",
        "        X_validation = np.random.rand(batch_size, num_features)\n",
        "        y_validation = np.random.randint(0, 2, size=batch_size)\n",
        "\n",
        "        # Calculate validation accuracy\n",
        "        accuracy = model.score(X_validation, y_validation)\n",
        "        print(f\"Batch {i}/{num_batches}, Validation Accuracy: {accuracy:.4f}\")\n",
        "\n",
        "print(\"Online learning process completed.\")"
      ]
    },
    {
      "cell_type": "markdown",
      "source": [
        "#Online Shortest Path:"
      ],
      "metadata": {
        "id": "8EDRJJZKDx-2"
      }
    },
    {
      "cell_type": "code",
      "source": [
        "import networkx as nx\n",
        "from heapq import heappush, heappop\n",
        "from itertools import count\n",
        "class OnlineShortestPath:\n",
        "    def __init__(self):\n",
        "        self.graph = nx.Graph()\n",
        "        self.node_counter = count()  # Counter for unique node ids\n",
        "\n",
        "    def add_edge(self, u, v, weight):\n",
        "        # Add an edge to the graph\n",
        "        if not self.graph.has_node(u):\n",
        "            self.graph.add_node(u)\n",
        "        if not self.graph.has_node(v):\n",
        "            self.graph.add_node(v)\n",
        "        self.graph.add_edge(u, v, weight=weight)\n",
        "\n",
        "    def update_shortest_path(self, source, target):\n",
        "        # Compute shortest path using Dijkstra's algorithm\n",
        "        shortest_path = nx.shortest_path(self.graph, source=source, target=target, weight='weight')\n",
        "        shortest_distance = nx.shortest_path_length(self.graph, source=source, target=target, weight='weight')\n",
        "        return shortest_path, shortest_distance\n",
        "# Create an instance of OnlineShortestPath\n",
        "osp = OnlineShortestPath()\n",
        "\n",
        "# Example: Add edges to the graph\n",
        "osp.add_edge('A', 'B', 5)\n",
        "osp.add_edge('B', 'C', 3)\n",
        "osp.add_edge('C', 'D', 7)\n",
        "osp.add_edge('D', 'A', 2)\n",
        "\n",
        "# Update shortest path after adding edges\n",
        "source_node = 'A'\n",
        "target_node = 'D'\n",
        "shortest_path, shortest_distance = osp.update_shortest_path(source_node, target_node)\n",
        "\n",
        "print(f\"Shortest Path from {source_node} to {target_node}: {shortest_path}\")\n",
        "print(f\"Shortest Distance: {shortest_distance}\")\n"
      ],
      "metadata": {
        "colab": {
          "base_uri": "https://localhost:8080/"
        },
        "id": "w5BKgSmbD3NL",
        "outputId": "24451a6d-556d-4fd8-d286-fc6340859fc9"
      },
      "execution_count": null,
      "outputs": [
        {
          "output_type": "stream",
          "name": "stdout",
          "text": [
            "Shortest Path from A to D: ['A', 'D']\n",
            "Shortest Distance: 2\n"
          ]
        }
      ]
    },
    {
      "cell_type": "markdown",
      "source": [
        "#Dynamic Pricing"
      ],
      "metadata": {
        "id": "UhmXFi3fELT5"
      }
    },
    {
      "cell_type": "code",
      "source": [
        "import random\n",
        "\n",
        "class DynamicPricing:\n",
        "    def __init__(self, initial_price):\n",
        "        self.price = initial_price\n",
        "        self.min_price = 10  # Minimum price\n",
        "        self.max_price = 100  # Maximum price\n",
        "\n",
        "    def update_price(self, demand_level):\n",
        "        # Adjust price based on demand level\n",
        "        if demand_level > 0.8:\n",
        "            # High demand: Increase price\n",
        "            self.price = min(self.price * 1.2, self.max_price)\n",
        "        elif demand_level > 0.5:\n",
        "            # Moderate demand: Keep price unchanged\n",
        "            self.price = self.price\n",
        "        else:\n",
        "            # Low demand: Decrease price\n",
        "            self.price = max(self.price * 0.8, self.min_price)\n",
        "\n",
        "    def get_current_price(self):\n",
        "        return self.price\n",
        "def simulate_demand():\n",
        "    # Simulate random demand level between 0 and 1\n",
        "    return random.uniform(0, 1)\n",
        "# Initialize DynamicPricing with an initial price\n",
        "initial_price = 50\n",
        "pricing_strategy = DynamicPricing(initial_price)\n",
        "\n",
        "# Simulate dynamic pricing over time\n",
        "num_iterations = 10\n",
        "\n",
        "for i in range(num_iterations):\n",
        "    demand_level = simulate_demand()\n",
        "    pricing_strategy.update_price(demand_level)\n",
        "    current_price = pricing_strategy.get_current_price()\n",
        "    print(f\"Iteration {i+1}: Demand Level = {demand_level:.2f}, Current Price = ${current_price:.2f}\")"
      ],
      "metadata": {
        "colab": {
          "base_uri": "https://localhost:8080/"
        },
        "id": "x9r22eBLEMKh",
        "outputId": "45878bdb-aba9-42b9-c8ec-976b4b304103"
      },
      "execution_count": null,
      "outputs": [
        {
          "output_type": "stream",
          "name": "stdout",
          "text": [
            "Iteration 1: Demand Level = 0.38, Current Price = $40.00\n",
            "Iteration 2: Demand Level = 0.31, Current Price = $32.00\n",
            "Iteration 3: Demand Level = 0.55, Current Price = $32.00\n",
            "Iteration 4: Demand Level = 0.26, Current Price = $25.60\n",
            "Iteration 5: Demand Level = 0.78, Current Price = $25.60\n",
            "Iteration 6: Demand Level = 0.53, Current Price = $25.60\n",
            "Iteration 7: Demand Level = 0.31, Current Price = $20.48\n",
            "Iteration 8: Demand Level = 0.20, Current Price = $16.38\n",
            "Iteration 9: Demand Level = 0.95, Current Price = $19.66\n",
            "Iteration 10: Demand Level = 0.27, Current Price = $15.73\n"
          ]
        }
      ]
    },
    {
      "cell_type": "markdown",
      "source": [
        "#Sequential Investment"
      ],
      "metadata": {
        "id": "DykwHKdcEWbb"
      }
    },
    {
      "cell_type": "code",
      "source": [
        "import numpy as np\n",
        "\n",
        "class SequentialInvestment:\n",
        "    def __init__(self, num_assets):\n",
        "        self.num_assets = num_assets\n",
        "        self.total_investment = 0\n",
        "        self.portfolio_value = 0\n",
        "\n",
        "    def make_investment(self, investment_amounts):\n",
        "        # Validate number of assets to invest in\n",
        "        if len(investment_amounts) != self.num_assets:\n",
        "            raise ValueError(\"Number of investment amounts must match the number of assets\")\n",
        "\n",
        "        # Simulate returns for each asset\n",
        "        returns = np.random.uniform(low=0.8, high=1.2, size=self.num_assets)\n",
        "\n",
        "        # Calculate portfolio value after investments\n",
        "        self.portfolio_value = sum(investment_amounts * returns)\n",
        "\n",
        "        # Update total investment\n",
        "        self.total_investment += sum(investment_amounts)\n",
        "\n",
        "    def get_portfolio_value(self):\n",
        "        return self.portfolio_value\n",
        "\n",
        "    def get_total_investment(self):\n",
        "        return self.total_investment\n",
        "# Initialize SequentialInvestment with the number of assets\n",
        "num_assets = 3\n",
        "investment_strategy = SequentialInvestment(num_assets)\n",
        "\n",
        "# Simulate sequential investments over time\n",
        "num_rounds = 5\n",
        "initial_investment_amounts = np.array([1000, 2000, 1500])  # Initial investment amounts for each asset\n",
        "\n",
        "print(\"Initial Investment Allocation:\")\n",
        "print(f\"Asset 1: ${initial_investment_amounts[0]}\")\n",
        "print(f\"Asset 2: ${initial_investment_amounts[1]}\")\n",
        "print(f\"Asset 3: ${initial_investment_amounts[2]}\")\n",
        "\n",
        "for round in range(1, num_rounds + 1):\n",
        "    print(f\"\\n--- Round {round} ---\")\n",
        "\n",
        "    # Simulate making investment decisions\n",
        "    investment_strategy.make_investment(initial_investment_amounts)\n",
        "\n",
        "    # Display results after each round\n",
        "    portfolio_value = investment_strategy.get_portfolio_value()\n",
        "    total_investment = investment_strategy.get_total_investment()\n",
        "\n",
        "    print(f\"Portfolio Value after Round {round}: ${portfolio_value:.2f}\")\n",
        "    print(f\"Total Investment after Round {round}: ${total_investment:.2f}\")\n",
        "\n",
        "    # Update investment amounts for next round (randomize for simplicity)\n",
        "    initial_investment_amounts = np.random.randint(500, 3000, size=num_assets)\n",
        "    print(f\"New Investment Allocation for Next Round:\")\n",
        "    print(f\"Asset 1: ${initial_investment_amounts[0]}\")\n",
        "    print(f\"Asset 2: ${initial_investment_amounts[1]}\")\n",
        "    print(f\"Asset 3: ${initial_investment_amounts[2]}\")\n"
      ],
      "metadata": {
        "colab": {
          "base_uri": "https://localhost:8080/"
        },
        "id": "KVBiqR9WEXB0",
        "outputId": "fc24e49a-ee8d-4277-8ed5-fc36f774271c"
      },
      "execution_count": null,
      "outputs": [
        {
          "output_type": "stream",
          "name": "stdout",
          "text": [
            "Initial Investment Allocation:\n",
            "Asset 1: $1000\n",
            "Asset 2: $2000\n",
            "Asset 3: $1500\n",
            "\n",
            "--- Round 1 ---\n",
            "Portfolio Value after Round 1: $4594.08\n",
            "Total Investment after Round 1: $4500.00\n",
            "New Investment Allocation for Next Round:\n",
            "Asset 1: $1818\n",
            "Asset 2: $2188\n",
            "Asset 3: $2992\n",
            "\n",
            "--- Round 2 ---\n",
            "Portfolio Value after Round 2: $7765.46\n",
            "Total Investment after Round 2: $11498.00\n",
            "New Investment Allocation for Next Round:\n",
            "Asset 1: $1573\n",
            "Asset 2: $1107\n",
            "Asset 3: $783\n",
            "\n",
            "--- Round 3 ---\n",
            "Portfolio Value after Round 3: $3408.55\n",
            "Total Investment after Round 3: $14961.00\n",
            "New Investment Allocation for Next Round:\n",
            "Asset 1: $2718\n",
            "Asset 2: $1851\n",
            "Asset 3: $670\n",
            "\n",
            "--- Round 4 ---\n",
            "Portfolio Value after Round 4: $4703.98\n",
            "Total Investment after Round 4: $20200.00\n",
            "New Investment Allocation for Next Round:\n",
            "Asset 1: $1412\n",
            "Asset 2: $1048\n",
            "Asset 3: $2446\n",
            "\n",
            "--- Round 5 ---\n",
            "Portfolio Value after Round 5: $5445.11\n",
            "Total Investment after Round 5: $25106.00\n",
            "New Investment Allocation for Next Round:\n",
            "Asset 1: $642\n",
            "Asset 2: $2048\n",
            "Asset 3: $1739\n"
          ]
        }
      ]
    },
    {
      "cell_type": "markdown",
      "source": [
        "#PREDICTION WITH EXPERT ADVICE"
      ],
      "metadata": {
        "id": "kZsNdBgVEgPs"
      }
    },
    {
      "cell_type": "markdown",
      "source": [
        "#Cumulative Regret\n"
      ],
      "metadata": {
        "id": "1bW4wii8EhOc"
      }
    },
    {
      "cell_type": "code",
      "source": [
        "import numpy as np\n",
        "\n",
        "class PredictionWithExpertAdvice:\n",
        "    def __init__(self, num_experts):\n",
        "        self.num_experts = num_experts\n",
        "        self.weights = np.ones(num_experts)  # Initialize weights for experts\n",
        "        self.predictions = []\n",
        "        self.cumulative_regret = 0\n",
        "\n",
        "    def predict(self):\n",
        "        # Make prediction based on current expert weights (weighted majority vote)\n",
        "        prediction = np.random.choice(self.num_experts, p=self.weights / np.sum(self.weights))\n",
        "        self.predictions.append(prediction)\n",
        "        return prediction\n",
        "\n",
        "    def update_weights(self, expert_losses):\n",
        "        # Update expert weights based on expert losses\n",
        "        for i in range(self.num_experts):\n",
        "            self.weights[i] *= np.exp(-expert_losses[i])\n",
        "\n",
        "        # Normalize weights to ensure they sum up to 1 (for probability distribution)\n",
        "        self.weights /= np.sum(self.weights)\n",
        "\n",
        "    def calculate_regret(self, expert_losses):\n",
        "        # Calculate cumulative regret based on expert losses\n",
        "        best_expert_loss = min(expert_losses)\n",
        "        algorithm_loss = sum(self.weights[i] * expert_losses[i] for i in range(self.num_experts))\n",
        "        self.cumulative_regret += algorithm_loss - best_expert_loss\n",
        "\n",
        "    def get_cumulative_regret(self):\n",
        "        return self.cumulative_regret\n",
        "# Initialize PredictionWithExpertAdvice with the number of experts\n",
        "num_experts = 3\n",
        "prediction_algorithm = PredictionWithExpertAdvice(num_experts)\n",
        "\n",
        "# Simulate prediction with expert advice over time (multiple rounds)\n",
        "num_rounds = 10\n",
        "expert_losses = np.random.uniform(low=0, high=1, size=(num_experts,))  # Simulate random expert losses\n",
        "\n",
        "for round in range(1, num_rounds + 1):\n",
        "    print(f\"\\n--- Round {round} ---\")\n",
        "\n",
        "    # Make prediction using the algorithm\n",
        "    algorithm_prediction = prediction_algorithm.predict()\n",
        "\n",
        "    # Get expert loss for each expert\n",
        "    expert_losses = np.random.uniform(low=0, high=1, size=(num_experts,))\n",
        "\n",
        "    # Update weights based on expert losses\n",
        "    prediction_algorithm.update_weights(expert_losses)\n",
        "\n",
        "    # Calculate cumulative regret\n",
        "    prediction_algorithm.calculate_regret(expert_losses)\n",
        "\n",
        "    # Display cumulative regret after each round\n",
        "    cumulative_regret = prediction_algorithm.get_cumulative_regret()\n",
        "    print(f\"Cumulative Regret after Round {round}: {cumulative_regret:.4f}\")\n",
        "\n",
        "print(f\"\\nTotal Cumulative Regret: {prediction_algorithm.get_cumulative_regret():.4f}\")\n"
      ],
      "metadata": {
        "colab": {
          "base_uri": "https://localhost:8080/"
        },
        "id": "70QZLtuREnDN",
        "outputId": "bd9a162f-65ad-406c-fc02-b658d1b15390"
      },
      "execution_count": null,
      "outputs": [
        {
          "output_type": "stream",
          "name": "stdout",
          "text": [
            "\n",
            "--- Round 1 ---\n",
            "Cumulative Regret after Round 1: 0.1186\n",
            "\n",
            "--- Round 2 ---\n",
            "Cumulative Regret after Round 2: 0.3832\n",
            "\n",
            "--- Round 3 ---\n",
            "Cumulative Regret after Round 3: 0.4989\n",
            "\n",
            "--- Round 4 ---\n",
            "Cumulative Regret after Round 4: 0.5735\n",
            "\n",
            "--- Round 5 ---\n",
            "Cumulative Regret after Round 5: 0.7264\n",
            "\n",
            "--- Round 6 ---\n",
            "Cumulative Regret after Round 6: 1.1722\n",
            "\n",
            "--- Round 7 ---\n",
            "Cumulative Regret after Round 7: 1.5298\n",
            "\n",
            "--- Round 8 ---\n",
            "Cumulative Regret after Round 8: 1.7074\n",
            "\n",
            "--- Round 9 ---\n",
            "Cumulative Regret after Round 9: 1.7388\n",
            "\n",
            "--- Round 10 ---\n",
            "Cumulative Regret after Round 10: 1.9208\n",
            "\n",
            "Total Cumulative Regret: 1.9208\n"
          ]
        }
      ]
    },
    {
      "cell_type": "markdown",
      "source": [
        "#Exponential Weights"
      ],
      "metadata": {
        "id": "CPpYFB8gEtJu"
      }
    },
    {
      "cell_type": "code",
      "source": [
        "import numpy as np\n",
        "\n",
        "class ExponentialWeights:\n",
        "    def __init__(self, num_actions, learning_rate):\n",
        "        self.num_actions = num_actions\n",
        "        self.weights = np.ones(num_actions)  # Initialize weights for actions\n",
        "        self.learning_rate = learning_rate\n",
        "\n",
        "    def choose_action(self):\n",
        "        # Make a weighted random choice of actions based on current weights\n",
        "        action = np.random.choice(self.num_actions, p=self.weights / np.sum(self.weights))\n",
        "        return action\n",
        "\n",
        "    def update_weights(self, action, loss):\n",
        "        # Update weights using exponential weighting rule\n",
        "        update_factor = np.exp(-self.learning_rate * loss)\n",
        "        self.weights[action] *= update_factor\n",
        "\n",
        "        # Normalize weights to ensure they sum up to 1 (for probability distribution)\n",
        "        self.weights /= np.sum(self.weights)\n",
        "# Initialize ExponentialWeights with the number of actions and learning rate\n",
        "num_actions = 3\n",
        "learning_rate = 0.1\n",
        "exp_weights_algorithm = ExponentialWeights(num_actions, learning_rate)\n",
        "\n",
        "# Simulate the algorithm over time (multiple rounds)\n",
        "num_rounds = 10\n",
        "\n",
        "for round in range(1, num_rounds + 1):\n",
        "    print(f\"\\n--- Round {round} ---\")\n",
        "\n",
        "    # Choose an action based on the current weights\n",
        "    chosen_action = exp_weights_algorithm.choose_action()\n",
        "\n",
        "    # Simulate loss for the chosen action (random for simplicity)\n",
        "    action_loss = np.random.uniform(0, 1)\n",
        "\n",
        "    # Update weights based on the action and loss\n",
        "    exp_weights_algorithm.update_weights(chosen_action, action_loss)\n",
        "\n",
        "    # Display current weights after each round\n",
        "    print(f\"Current Weights after Round {round}: {exp_weights_algorithm.weights}\")\n",
        "\n",
        "print(\"\\nFinal Weights:\")\n",
        "print(exp_weights_algorithm.weights)\n"
      ],
      "metadata": {
        "colab": {
          "base_uri": "https://localhost:8080/"
        },
        "id": "DNqBvtCmFAAC",
        "outputId": "e6eb2b1d-100d-4bc9-aa2e-6e8335b15c6d"
      },
      "execution_count": null,
      "outputs": [
        {
          "output_type": "stream",
          "name": "stdout",
          "text": [
            "\n",
            "--- Round 1 ---\n",
            "Current Weights after Round 1: [0.34187105 0.31625789 0.34187105]\n",
            "\n",
            "--- Round 2 ---\n",
            "Current Weights after Round 2: [0.34479174 0.31895977 0.33624849]\n",
            "\n",
            "--- Round 3 ---\n",
            "Current Weights after Round 3: [0.35488274 0.32829473 0.31682253]\n",
            "\n",
            "--- Round 4 ---\n",
            "Current Weights after Round 4: [0.35903263 0.32044001 0.32052736]\n",
            "\n",
            "--- Round 5 ---\n",
            "Current Weights after Round 5: [0.33736142 0.33127414 0.33136444]\n",
            "\n",
            "--- Round 6 ---\n",
            "Current Weights after Round 6: [0.32026597 0.33982071 0.33991333]\n",
            "\n",
            "--- Round 7 ---\n",
            "Current Weights after Round 7: [0.32194069 0.34159769 0.33646162]\n",
            "\n",
            "--- Round 8 ---\n",
            "Current Weights after Round 8: [0.33214718 0.32072436 0.34712846]\n",
            "\n",
            "--- Round 9 ---\n",
            "Current Weights after Round 9: [0.31167951 0.33055359 0.3577669 ]\n",
            "\n",
            "--- Round 10 ---\n",
            "Current Weights after Round 10: [0.31736652 0.33658499 0.34604849]\n",
            "\n",
            "Final Weights:\n",
            "[0.31736652 0.33658499 0.34604849]\n"
          ]
        }
      ]
    }
  ]
}