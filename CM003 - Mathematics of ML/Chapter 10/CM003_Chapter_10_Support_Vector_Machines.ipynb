{
  "nbformat": 4,
  "nbformat_minor": 0,
  "metadata": {
    "colab": {
      "provenance": []
    },
    "kernelspec": {
      "name": "python3",
      "display_name": "Python 3"
    },
    "language_info": {
      "name": "python"
    }
  },
  "cells": [
    {
      "cell_type": "markdown",
      "source": [
        "#Support Vector Machines"
      ],
      "metadata": {
        "id": "xRJ6J6wVKjxX"
      }
    },
    {
      "cell_type": "code",
      "execution_count": null,
      "metadata": {
        "colab": {
          "base_uri": "https://localhost:8080/"
        },
        "id": "hL6NcTLkJSDi",
        "outputId": "d01ff8fc-6619-4efd-d062-fd1802b00337"
      },
      "outputs": [
        {
          "output_type": "stream",
          "name": "stdout",
          "text": [
            "SVC Accuracy: 1.0\n"
          ]
        }
      ],
      "source": [
        "from sklearn.datasets import load_iris\n",
        "from sklearn.model_selection import train_test_split\n",
        "from sklearn.svm import SVC\n",
        "from sklearn.metrics import accuracy_score\n",
        "\n",
        "# Load Iris dataset\n",
        "iris = load_iris()\n",
        "X = iris.data\n",
        "y = iris.target\n",
        "\n",
        "# Split data into train and test sets\n",
        "X_train, X_test, y_train, y_test = train_test_split(X, y, test_size=0.2, random_state=42)\n",
        "\n",
        "# Create SVC model\n",
        "model_svc = SVC(kernel='rbf', C=1.0, gamma='scale')  # RBF kernel\n",
        "\n",
        "# Train the model\n",
        "model_svc.fit(X_train, y_train)\n",
        "\n",
        "# Make predictions\n",
        "y_pred_svc = model_svc.predict(X_test)\n",
        "\n",
        "# Evaluate accuracy\n",
        "accuracy_svc = accuracy_score(y_test, y_pred_svc)\n",
        "print(\"SVC Accuracy:\", accuracy_svc)"
      ]
    },
    {
      "cell_type": "code",
      "source": [
        "from sklearn.datasets import load_breast_cancer\n",
        "from sklearn.model_selection import train_test_split\n",
        "from sklearn.svm import LinearSVC\n",
        "from sklearn.metrics import accuracy_score\n",
        "\n",
        "# Load Breast Cancer dataset\n",
        "cancer = load_breast_cancer()\n",
        "X = cancer.data\n",
        "y = cancer.target\n",
        "\n",
        "# Split data into train and test sets\n",
        "X_train, X_test, y_train, y_test = train_test_split(X, y, test_size=0.2, random_state=42)\n",
        "\n",
        "# Create LinearSVC model\n",
        "model_linear_svc = LinearSVC(C=1.0, loss='squared_hinge', max_iter=10000)\n",
        "\n",
        "# Train the model\n",
        "model_linear_svc.fit(X_train, y_train)\n",
        "\n",
        "# Make predictions\n",
        "y_pred_linear_svc = model_linear_svc.predict(X_test)\n",
        "\n",
        "# Evaluate accuracy\n",
        "accuracy_linear_svc = accuracy_score(y_test, y_pred_linear_svc)\n",
        "print(\"LinearSVC Accuracy:\", accuracy_linear_svc)"
      ],
      "metadata": {
        "colab": {
          "base_uri": "https://localhost:8080/"
        },
        "id": "mf9CRJWSL3Cd",
        "outputId": "02e9a5aa-18f9-4449-ce7d-2b42034da391"
      },
      "execution_count": null,
      "outputs": [
        {
          "output_type": "stream",
          "name": "stdout",
          "text": [
            "LinearSVC Accuracy: 0.8245614035087719\n"
          ]
        },
        {
          "output_type": "stream",
          "name": "stderr",
          "text": [
            "/usr/local/lib/python3.10/dist-packages/sklearn/svm/_base.py:1244: ConvergenceWarning: Liblinear failed to converge, increase the number of iterations.\n",
            "  warnings.warn(\n"
          ]
        }
      ]
    },
    {
      "cell_type": "code",
      "source": [
        "from sklearn.datasets import load_iris\n",
        "from sklearn.model_selection import train_test_split\n",
        "from sklearn.svm import NuSVC\n",
        "from sklearn.metrics import accuracy_score\n",
        "\n",
        "# Load Iris dataset\n",
        "iris = load_iris()\n",
        "X = iris.data\n",
        "y = iris.target\n",
        "\n",
        "# Split data into train and test sets\n",
        "X_train, X_test, y_train, y_test = train_test_split(X, y, test_size=0.2, random_state=42)\n",
        "\n",
        "# Create NuSVC model\n",
        "model_nu_svc = NuSVC(kernel='rbf', nu=0.5, gamma='scale')\n",
        "\n",
        "# Train the model\n",
        "model_nu_svc.fit(X_train, y_train)\n",
        "\n",
        "# Make predictions\n",
        "y_pred_nu_svc = model_nu_svc.predict(X_test)\n",
        "\n",
        "# Evaluate accuracy\n",
        "accuracy_nu_svc = accuracy_score(y_test, y_pred_nu_svc)\n",
        "print(\"NuSVC Accuracy:\", accuracy_nu_svc)"
      ],
      "metadata": {
        "colab": {
          "base_uri": "https://localhost:8080/"
        },
        "id": "oqxf4RrCL8wN",
        "outputId": "023fef17-eaa7-4e6b-a7a1-b1a0b184e8b8"
      },
      "execution_count": null,
      "outputs": [
        {
          "output_type": "stream",
          "name": "stdout",
          "text": [
            "NuSVC Accuracy: 1.0\n"
          ]
        }
      ]
    },
    {
      "cell_type": "markdown",
      "source": [
        "#Risk Bounds for SVM"
      ],
      "metadata": {
        "id": "qJ2KRcBLMQ3N"
      }
    },
    {
      "cell_type": "code",
      "source": [
        "import numpy as np\n",
        "from sklearn.datasets import load_iris\n",
        "from sklearn.model_selection import train_test_split\n",
        "from sklearn.svm import SVC\n",
        "from sklearn.metrics import accuracy_score\n",
        "from scipy.special import comb\n",
        "\n",
        "# Load Iris dataset\n",
        "iris = load_iris()\n",
        "X = iris.data\n",
        "y = iris.target\n",
        "\n",
        "# Split data into train and test sets\n",
        "X_train, X_test, y_train, y_test = train_test_split(X, y, test_size=0.2, random_state=42)\n",
        "\n",
        "# Create and train SVC model\n",
        "model = SVC(kernel='rbf', C=1.0, gamma='scale')\n",
        "model.fit(X_train, y_train)\n",
        "\n",
        "# Evaluate accuracy on test set\n",
        "y_pred = model.predict(X_test)\n",
        "accuracy = accuracy_score(y_test, y_pred)\n",
        "print(\"Test Accuracy:\", accuracy)\n",
        "\n",
        "# Estimate VC Dimension\n",
        "def estimate_vc_dimension(model, X, y):\n",
        "    n_samples = len(X)\n",
        "    d = X.shape[1]  # Number of features\n",
        "    support_vectors_count = np.sum(model.n_support_)  # Total support vectors\n",
        "    vc_dimension = min(d, support_vectors_count) + 1\n",
        "    return vc_dimension\n",
        "\n",
        "vc_dimension = estimate_vc_dimension(model, X_train, y_train)\n",
        "print(\"Estimated VC Dimension:\", vc_dimension)\n",
        "\n",
        "# Calculate Risk Bound\n",
        "def risk_bound(accuracy, vc_dim, n):\n",
        "    delta = 0.1  # Confidence level\n",
        "    risk_bound = accuracy + np.sqrt((vc_dim * np.log(2 * n / vc_dim) + np.log(1 / delta)) / (2 * n))\n",
        "    return risk_bound\n",
        "\n",
        "n = len(X_train)\n",
        "risk_bound_value = risk_bound(accuracy, vc_dimension, n)\n",
        "print(\"Estimated Risk Bound:\", risk_bound_value)"
      ],
      "metadata": {
        "colab": {
          "base_uri": "https://localhost:8080/"
        },
        "id": "T_ATNJyIMRzl",
        "outputId": "3416d2e1-9c36-4e37-c1c0-cb97388b69b1"
      },
      "execution_count": null,
      "outputs": [
        {
          "output_type": "stream",
          "name": "stdout",
          "text": [
            "Test Accuracy: 1.0\n",
            "Estimated VC Dimension: 5\n",
            "Estimated Risk Bound: 1.3004066004846146\n"
          ]
        }
      ]
    }
  ]
}