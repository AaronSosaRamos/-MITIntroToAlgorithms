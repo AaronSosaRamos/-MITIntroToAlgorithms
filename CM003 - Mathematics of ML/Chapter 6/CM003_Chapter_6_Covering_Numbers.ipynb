{
  "nbformat": 4,
  "nbformat_minor": 0,
  "metadata": {
    "colab": {
      "provenance": []
    },
    "kernelspec": {
      "name": "python3",
      "display_name": "Python 3"
    },
    "language_info": {
      "name": "python"
    }
  },
  "cells": [
    {
      "cell_type": "markdown",
      "source": [
        "#Covering Numbers"
      ],
      "metadata": {
        "id": "ngjXEE2tENqo"
      }
    },
    {
      "cell_type": "markdown",
      "source": [
        "#LEARNING WITH A GENERAL LOSS FUNCTION"
      ],
      "metadata": {
        "id": "b7MR8VtXEYl-"
      }
    },
    {
      "cell_type": "code",
      "execution_count": null,
      "metadata": {
        "id": "XvMqoJ9DD2dD"
      },
      "outputs": [],
      "source": [
        "import numpy as np\n",
        "from sklearn.linear_model import LinearRegression\n",
        "from sklearn.metrics import mean_squared_error\n",
        "\n",
        "# Generate synthetic data for regression\n",
        "np.random.seed(0)\n",
        "n_samples = 100\n",
        "X = np.random.randn(n_samples, 1)  # Feature\n",
        "Y = 2 * X.squeeze() + np.random.randn(n_samples)  # Target (with noise)"
      ]
    },
    {
      "cell_type": "code",
      "source": [
        "def custom_loss(y_true, y_pred):\n",
        "    return np.mean((y_true - y_pred) ** 2)"
      ],
      "metadata": {
        "id": "17oPts6NElfN"
      },
      "execution_count": null,
      "outputs": []
    },
    {
      "cell_type": "markdown",
      "source": [
        "Empirical Risk Minimization"
      ],
      "metadata": {
        "id": "2GJRuJ2HEnB1"
      }
    },
    {
      "cell_type": "code",
      "source": [
        "# Fit a linear regression model\n",
        "model = LinearRegression()\n",
        "model.fit(X, Y)\n",
        "\n",
        "# Predictions from the model\n",
        "Y_pred = model.predict(X)\n",
        "\n",
        "# Calculate the custom loss (MSE)\n",
        "risk = custom_loss(Y, Y_pred)\n",
        "print(\"Empirical Risk (MSE):\", risk)"
      ],
      "metadata": {
        "colab": {
          "base_uri": "https://localhost:8080/"
        },
        "id": "5_j80N5bEpZ1",
        "outputId": "075650fe-1c2e-4493-8422-a29c1c9e6b85"
      },
      "execution_count": null,
      "outputs": [
        {
          "output_type": "stream",
          "name": "stdout",
          "text": [
            "Empirical Risk (MSE): 1.057171854190629\n"
          ]
        }
      ]
    },
    {
      "cell_type": "code",
      "source": [
        "from scipy.optimize import minimize\n",
        "\n",
        "# Define the loss function for optimization (negative of MSE)\n",
        "def loss_function(theta):\n",
        "    # Reshape theta to include intercept (theta[0]) and coefficients (theta[1:])\n",
        "    theta = theta.reshape(-1, 1)  # Reshape theta to a column vector\n",
        "    intercept = theta[0]\n",
        "    coefficients = theta[1:]\n",
        "\n",
        "    # Calculate predicted values\n",
        "    y_pred = np.dot(X, coefficients) + intercept\n",
        "\n",
        "    # Calculate negative of MSE (to be minimized)\n",
        "    return -np.mean((Y - y_pred) ** 2)\n",
        "\n",
        "# Initial guess for parameters (coefficients of linear regression)\n",
        "initial_theta = np.random.randn(X.shape[1] + 1)\n",
        "\n",
        "# Minimize the loss function using scipy's minimize\n",
        "result = minimize(loss_function, initial_theta)\n",
        "optimal_theta = result.x\n",
        "\n",
        "# Print the optimal parameters\n",
        "print(\"Optimal Theta:\", optimal_theta)"
      ],
      "metadata": {
        "colab": {
          "base_uri": "https://localhost:8080/"
        },
        "id": "yZlrlfqVEs-m",
        "outputId": "6898a55d-9b6b-404a-d9b9-ee43ac1a12a0"
      },
      "execution_count": null,
      "outputs": [
        {
          "output_type": "stream",
          "name": "stdout",
          "text": [
            "Optimal Theta: [820.54662547 631.65371675]\n"
          ]
        }
      ]
    },
    {
      "cell_type": "code",
      "source": [
        "import numpy as np\n",
        "from scipy.optimize import minimize\n",
        "\n",
        "class CustomRegression:\n",
        "    def __init__(self):\n",
        "        self.theta = None\n",
        "\n",
        "    def fit(self, X, Y):\n",
        "        def loss_function(theta):\n",
        "            # Reshape theta to include intercept (theta[0]) and coefficients (theta[1:])\n",
        "            theta = theta.reshape(-1, 1)\n",
        "            intercept = theta[0]\n",
        "            coefficients = theta[1:]\n",
        "\n",
        "            # Calculate predicted values\n",
        "            y_pred = np.dot(X, coefficients) + intercept\n",
        "\n",
        "            # Calculate negative of MSE (to be minimized)\n",
        "            return np.mean((Y - y_pred) ** 2)\n",
        "\n",
        "        # Initial guess for parameters (coefficients of linear regression)\n",
        "        initial_theta = np.random.randn(X.shape[1] + 1)\n",
        "\n",
        "        # Minimize the loss function using scipy's minimize\n",
        "        result = minimize(loss_function, initial_theta)\n",
        "        self.theta = result.x\n",
        "\n",
        "    def predict(self, X):\n",
        "        if self.theta is None:\n",
        "            raise Exception(\"Model not trained. Call fit() first.\")\n",
        "\n",
        "        # Reshape theta to include intercept (self.theta[0]) and coefficients (self.theta[1:])\n",
        "        theta = self.theta.reshape(-1, 1)\n",
        "        intercept = theta[0]\n",
        "        coefficients = theta[1:]\n",
        "\n",
        "        # Make predictions using the fitted model\n",
        "        y_pred = np.dot(X, coefficients) + intercept\n",
        "        return y_pred\n",
        "\n",
        "# Generate synthetic data for regression\n",
        "np.random.seed(0)\n",
        "n_samples = 100\n",
        "X = np.random.randn(n_samples, 1)  # Feature\n",
        "Y = 2 * X.squeeze() + np.random.randn(n_samples)  # Target (with noise)\n",
        "\n",
        "# Instantiate CustomRegression model\n",
        "model = CustomRegression()\n",
        "\n",
        "# Fit the model to the data\n",
        "model.fit(X, Y)\n",
        "\n",
        "# Make predictions using the fitted model\n",
        "X_test = np.linspace(-2, 2, 50).reshape(-1, 1)  # Generate test data\n",
        "Y_pred = model.predict(X_test)\n",
        "\n",
        "# Print the optimal parameters\n",
        "print(\"Optimal Theta:\", model.theta)\n",
        "\n",
        "# Plot the original data and predicted values\n",
        "import matplotlib.pyplot as plt\n",
        "\n",
        "plt.scatter(X, Y, label='Original Data')\n",
        "plt.plot(X_test, Y_pred, color='red', label='Predicted Values')\n",
        "plt.xlabel('X')\n",
        "plt.ylabel('Y')\n",
        "plt.title('Custom Regression Model')\n",
        "plt.legend()\n",
        "plt.show()"
      ],
      "metadata": {
        "colab": {
          "base_uri": "https://localhost:8080/",
          "height": 489
        },
        "id": "iPaCVQCDE04N",
        "outputId": "d565f700-a284-41b6-91be-01e121f0885f"
      },
      "execution_count": null,
      "outputs": [
        {
          "output_type": "stream",
          "name": "stdout",
          "text": [
            "Optimal Theta: [2.01628968e-01 9.67503127e-09]\n"
          ]
        },
        {
          "output_type": "display_data",
          "data": {
            "text/plain": [
              "<Figure size 640x480 with 1 Axes>"
            ],
            "image/png": "[encoded data removed]"
          },
          "metadata": {}
        }
      ]
    },
    {
      "cell_type": "markdown",
      "source": [
        "#Empirical Risk Minimization:\n",
        "1. Notations\n",
        "2. Symmetrization and Rademacher Complexity   \n",
        "3. Finite Class of function"
      ],
      "metadata": {
        "id": "PFYQKhxgFZR8"
      }
    },
    {
      "cell_type": "code",
      "source": [
        "import numpy as np\n",
        "\n",
        "# Define a simple class of functions (for demonstration)\n",
        "class FiniteFunctionClass:\n",
        "    def __init__(self, functions):\n",
        "        self.functions = functions\n",
        "\n",
        "    def evaluate(self, X):\n",
        "        # Evaluate all functions in the class on input X\n",
        "        return np.array([[func(x) for func in self.functions] for x in X])\n",
        "\n",
        "# Generate some synthetic data\n",
        "def generate_data(n, d):\n",
        "    X = np.random.randn(n, d)  # n samples, d-dimensional features\n",
        "    y = np.random.choice([-1, 1], size=n)  # binary labels {-1, 1}\n",
        "    return X, y\n",
        "\n",
        "# Define empirical risk minimization (ERM)\n",
        "def empirical_risk_minimization(X, y, function_class):\n",
        "    n = X.shape[0]\n",
        "    d = len(function_class.functions)  # Number of functions in the class\n",
        "\n",
        "    def empirical_risk(weights):\n",
        "        # Calculate empirical risk given weights\n",
        "        predictions = function_class.evaluate(X)  # Shape: (n, d)\n",
        "        weighted_predictions = predictions.dot(weights)  # Shape: (n,)\n",
        "        hinge_loss = np.maximum(0, -y * weighted_predictions)\n",
        "        return np.mean(hinge_loss)\n",
        "\n",
        "    return empirical_risk\n",
        "\n",
        "# Example usage\n",
        "if __name__ == \"__main__\":\n",
        "    # Define a simple class of functions (for demonstration)\n",
        "    functions = [\n",
        "        lambda x: np.dot(x, [1, 2]),  # Function 1\n",
        "        lambda x: np.dot(x, [-1, 3]),  # Function 2\n",
        "    ]\n",
        "\n",
        "    function_class = FiniteFunctionClass(functions)\n",
        "\n",
        "    # Generate synthetic data\n",
        "    X, y = generate_data(100, 2)\n",
        "\n",
        "    # Empirical Risk Minimization (ERM)\n",
        "    weights = np.random.randn(len(functions))\n",
        "    erm_loss = empirical_risk_minimization(X, y, function_class)(weights)\n",
        "    print(\"Empirical Risk:\", erm_loss)\n"
      ],
      "metadata": {
        "colab": {
          "base_uri": "https://localhost:8080/"
        },
        "id": "fptLaw46FwGt",
        "outputId": "803e513b-17ef-478a-a560-61a4e86614fd"
      },
      "execution_count": null,
      "outputs": [
        {
          "output_type": "stream",
          "name": "stdout",
          "text": [
            "Empirical Risk: 0.48169512812088916\n"
          ]
        }
      ]
    },
    {
      "cell_type": "code",
      "source": [
        "import numpy as np\n",
        "\n",
        "# Define a simple class of functions (for demonstration)\n",
        "class FiniteFunctionClass:\n",
        "    def __init__(self, functions):\n",
        "        self.functions = functions\n",
        "\n",
        "    def evaluate(self, X):\n",
        "        # Evaluate all functions in the class on input X\n",
        "        return np.array([[func(x) for func in self.functions] for x in X])\n",
        "\n",
        "# Generate some synthetic data\n",
        "def generate_data(n, d):\n",
        "    X = np.random.randn(n, d)  # n samples, d-dimensional features\n",
        "    y = np.random.choice([-1, 1], size=n)  # binary labels {-1, 1}\n",
        "    return X, y\n",
        "\n",
        "# Define empirical risk minimization (ERM)\n",
        "def empirical_risk_minimization(X, y, function_class):\n",
        "    n = X.shape[0]\n",
        "    d = len(function_class.functions)  # Number of functions in the class\n",
        "\n",
        "    def empirical_risk(weights):\n",
        "        # Calculate empirical risk given weights\n",
        "        predictions = function_class.evaluate(X)  # Shape: (n, d)\n",
        "        weighted_predictions = predictions.dot(weights)  # Shape: (n,)\n",
        "        hinge_loss = np.maximum(0, -y * weighted_predictions)\n",
        "        return np.mean(hinge_loss)\n",
        "\n",
        "    return empirical_risk\n",
        "\n",
        "# Symmetrization inequality\n",
        "def symmetrization_inequality(function_class, X):\n",
        "    n = X.shape[0]\n",
        "    d = len(function_class.functions)  # Number of functions in the class\n",
        "\n",
        "    # Sample random signs\n",
        "    signs = np.random.choice([-1, 1], size=(n, d))\n",
        "\n",
        "    def symmetrized_function(weights):\n",
        "        # Evaluate all functions with random signs\n",
        "        signed_evaluations = signs * function_class.evaluate(X)\n",
        "\n",
        "        # Compute the mean over functions and samples\n",
        "        return np.mean(np.sum(signed_evaluations * weights, axis=1))\n",
        "\n",
        "    return symmetrized_function\n",
        "\n",
        "# Rademacher complexity for a given class\n",
        "def rademacher_complexity(function_class, X):\n",
        "    n = X.shape[0]\n",
        "    d = len(function_class.functions)  # Number of functions in the class\n",
        "\n",
        "    # Generate Rademacher random variables\n",
        "    rads = np.random.choice([-1, 1], size=(n, d))\n",
        "\n",
        "    def rademacher_term(weights):\n",
        "        # Evaluate all functions with Rademacher random variables\n",
        "        rad_evaluations = rads * function_class.evaluate(X)\n",
        "\n",
        "        # Compute the mean over functions and samples\n",
        "        return np.mean(np.sum(rad_evaluations * weights, axis=1))\n",
        "\n",
        "    return rademacher_term\n",
        "\n",
        "# Example usage\n",
        "if __name__ == \"__main__\":\n",
        "    # Define a simple class of functions (for demonstration)\n",
        "    functions = [\n",
        "        lambda x: np.dot(x, [1, 2]),  # Function 1\n",
        "        lambda x: np.dot(x, [-1, 3]),  # Function 2\n",
        "    ]\n",
        "\n",
        "    function_class = FiniteFunctionClass(functions)\n",
        "\n",
        "    # Generate synthetic data\n",
        "    n_samples = 100\n",
        "    X, y = generate_data(n_samples, 2)\n",
        "\n",
        "    # Empirical Risk Minimization (ERM)\n",
        "    weights = np.random.randn(len(functions))\n",
        "    erm_loss = empirical_risk_minimization(X, y, function_class)(weights)\n",
        "    print(\"Empirical Risk:\", erm_loss)\n",
        "\n",
        "    # Symmetrization Inequality\n",
        "    symmetrized_fn = symmetrization_inequality(function_class, X)\n",
        "    sym_value = symmetrized_fn(weights)\n",
        "    print(\"Symmetrization Inequality:\", sym_value)\n",
        "\n",
        "    # Rademacher Complexity\n",
        "    rad_complexity_fn = rademacher_complexity(function_class, X)\n",
        "    rad_value = rad_complexity_fn(weights)\n",
        "    print(\"Rademacher Complexity:\", rad_value)"
      ],
      "metadata": {
        "colab": {
          "base_uri": "https://localhost:8080/"
        },
        "id": "CFIX6KjyGfMd",
        "outputId": "3eae1d03-1474-4c95-82ee-ba7fbe6e0925"
      },
      "execution_count": null,
      "outputs": [
        {
          "output_type": "stream",
          "name": "stdout",
          "text": [
            "Empirical Risk: 0.3494846211370652\n",
            "Symmetrization Inequality: -0.008001394421467436\n",
            "Rademacher Complexity: 0.01188453002430267\n"
          ]
        }
      ]
    },
    {
      "cell_type": "markdown",
      "source": [
        "#The General Case\n",
        "1. Covering Numbers\n",
        "2.  Computing Covering Numbers"
      ],
      "metadata": {
        "id": "s-SWGlgwGppR"
      }
    },
    {
      "cell_type": "code",
      "source": [
        "import itertools\n",
        "\n",
        "def covering_number(epsilon, X, distance_metric):\n",
        "    \"\"\"\n",
        "    Compute the covering number N(epsilon, X, distance_metric) for a given set X\n",
        "    and a distance metric.\n",
        "\n",
        "    Parameters:\n",
        "    epsilon (float): Radius of the epsilon-ball.\n",
        "    X (list or numpy array): Set X.\n",
        "    distance_metric (function): Distance metric function that takes two points\n",
        "                                and returns the distance between them.\n",
        "\n",
        "    Returns:\n",
        "    int: Covering number N(epsilon, X, distance_metric).\n",
        "    \"\"\"\n",
        "    n = len(X)\n",
        "    if n == 0:\n",
        "        return 0\n",
        "\n",
        "    covering_set = set()\n",
        "\n",
        "    # Generate all combinations of points in X\n",
        "    for subset in itertools.combinations(X, 2):\n",
        "        p1, p2 = subset\n",
        "        dist = distance_metric(p1, p2)\n",
        "        if dist >= epsilon:\n",
        "            covering_set.add(p1)\n",
        "            covering_set.add(p2)\n",
        "\n",
        "    return len(covering_set)\n",
        "\n",
        "# Example distance metric (Euclidean distance)\n",
        "def euclidean_distance(x, y):\n",
        "    return sum((xi - yi) ** 2 for xi, yi in zip(x, y)) ** 0.5\n",
        "\n",
        "# Example usage:\n",
        "if __name__ == \"__main__\":\n",
        "    # Example set X (list of points in a metric space)\n",
        "    X = [(1, 2), (3, 4), (5, 6), (7, 8), (9, 10)]\n",
        "\n",
        "    # Compute covering number with epsilon = 3.0 and Euclidean distance\n",
        "    epsilon = 3.0\n",
        "    num_covers = covering_number(epsilon, X, euclidean_distance)\n",
        "\n",
        "    print(f\"Covering number for epsilon = {epsilon}: {num_covers}\")\n"
      ],
      "metadata": {
        "colab": {
          "base_uri": "https://localhost:8080/"
        },
        "id": "LqrTKuWFG_my",
        "outputId": "82cf121f-861a-4a23-d6b8-5c6699687b1f"
      },
      "execution_count": null,
      "outputs": [
        {
          "output_type": "stream",
          "name": "stdout",
          "text": [
            "Covering number for epsilon = 3.0: 5\n"
          ]
        }
      ]
    },
    {
      "cell_type": "code",
      "source": [
        "import numpy as np\n",
        "from sklearn.model_selection import train_test_split\n",
        "from sklearn.tree import DecisionTreeRegressor\n",
        "from sklearn.metrics import mean_squared_error\n",
        "\n",
        "def generate_dataset(num_samples, num_features):\n",
        "    \"\"\" Generate synthetic dataset with random features and covering numbers \"\"\"\n",
        "    X = np.random.rand(num_samples, num_features)  # Random features\n",
        "    y = np.random.randint(1, 10, size=num_samples)  # Random covering numbers\n",
        "    return X, y\n",
        "\n",
        "# Generate synthetic dataset\n",
        "num_samples = 1000\n",
        "num_features = 5\n",
        "X, y = generate_dataset(num_samples, num_features)\n",
        "\n",
        "# Split dataset into training and testing sets\n",
        "X_train, X_test, y_train, y_test = train_test_split(X, y, test_size=0.2, random_state=42)\n",
        "\n",
        "# Initialize decision tree regressor model\n",
        "model = DecisionTreeRegressor()\n",
        "\n",
        "# Train the model\n",
        "model.fit(X_train, y_train)\n",
        "\n",
        "# Make predictions on the test set\n",
        "y_pred = model.predict(X_test)\n",
        "\n",
        "# Evaluate the model\n",
        "mse = mean_squared_error(y_test, y_pred)\n",
        "print(f\"Mean Squared Error: {mse}\")\n",
        "\n",
        "# Example prediction using new data point\n",
        "new_data_point = np.random.rand(1, num_features)  # Generate a new data point\n",
        "predicted_covering_number = model.predict(new_data_point)\n",
        "print(f\"Predicted Covering Number: {predicted_covering_number[0]}\")"
      ],
      "metadata": {
        "id": "LJwRF6BmHTXi",
        "outputId": "5b53d627-53cf-4d75-d79b-76a2299613d3",
        "colab": {
          "base_uri": "https://localhost:8080/"
        }
      },
      "execution_count": null,
      "outputs": [
        {
          "output_type": "stream",
          "name": "stdout",
          "text": [
            "Mean Squared Error: 12.575\n",
            "Predicted Covering Number: 9.0\n"
          ]
        }
      ]
    }
  ]
}